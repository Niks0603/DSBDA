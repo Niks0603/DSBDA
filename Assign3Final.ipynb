{
 "cells": [
  {
   "cell_type": "raw",
   "id": "70a04a00-4de4-4f40-b848-10c9a53999c0",
   "metadata": {},
   "source": [
    "Import all the required python libraries"
   ]
  },
  {
   "cell_type": "raw",
   "id": "ff19ce79-ea83-4385-a1cf-07bbe7152d6c",
   "metadata": {},
   "source": [
    "import pandas as pd\n",
    "import numpy as np\n",
    "import matplotlib.pyplot as plt\n",
    "import seaborn as sns"
   ]
  },
  {
   "cell_type": "code",
   "execution_count": null,
   "id": "6ef1bc9e-938d-4e05-93bd-7b03b1889c8f",
   "metadata": {},
   "outputs": [],
   "source": [
    "load the dataset name as (iris_final)"
   ]
  },
  {
   "cell_type": "code",
   "execution_count": 2,
   "id": "d10a8fb8-8402-43db-a65e-0d8df0f84232",
   "metadata": {},
   "outputs": [],
   "source": [
    "df=pd.read_csv(\"iris_final.csv\")\n"
   ]
  },
  {
   "cell_type": "code",
   "execution_count": 3,
   "id": "2ead1d8f-fc9a-4d9a-8011-157a7db06316",
   "metadata": {},
   "outputs": [
    {
     "data": {
      "text/html": [
       "<div>\n",
       "<style scoped>\n",
       "    .dataframe tbody tr th:only-of-type {\n",
       "        vertical-align: middle;\n",
       "    }\n",
       "\n",
       "    .dataframe tbody tr th {\n",
       "        vertical-align: top;\n",
       "    }\n",
       "\n",
       "    .dataframe thead th {\n",
       "        text-align: right;\n",
       "    }\n",
       "</style>\n",
       "<table border=\"1\" class=\"dataframe\">\n",
       "  <thead>\n",
       "    <tr style=\"text-align: right;\">\n",
       "      <th></th>\n",
       "      <th>sepal_length</th>\n",
       "      <th>sepal_width</th>\n",
       "      <th>petal_length</th>\n",
       "      <th>petal_width</th>\n",
       "      <th>species</th>\n",
       "    </tr>\n",
       "  </thead>\n",
       "  <tbody>\n",
       "    <tr>\n",
       "      <th>0</th>\n",
       "      <td>5.1</td>\n",
       "      <td>3.5</td>\n",
       "      <td>1.4</td>\n",
       "      <td>0.2</td>\n",
       "      <td>setosa</td>\n",
       "    </tr>\n",
       "    <tr>\n",
       "      <th>1</th>\n",
       "      <td>4.9</td>\n",
       "      <td>3.0</td>\n",
       "      <td>1.4</td>\n",
       "      <td>0.2</td>\n",
       "      <td>setosa</td>\n",
       "    </tr>\n",
       "    <tr>\n",
       "      <th>2</th>\n",
       "      <td>4.7</td>\n",
       "      <td>3.2</td>\n",
       "      <td>1.3</td>\n",
       "      <td>0.2</td>\n",
       "      <td>setosa</td>\n",
       "    </tr>\n",
       "    <tr>\n",
       "      <th>3</th>\n",
       "      <td>4.6</td>\n",
       "      <td>3.1</td>\n",
       "      <td>1.5</td>\n",
       "      <td>0.2</td>\n",
       "      <td>setosa</td>\n",
       "    </tr>\n",
       "    <tr>\n",
       "      <th>4</th>\n",
       "      <td>5.0</td>\n",
       "      <td>3.6</td>\n",
       "      <td>1.4</td>\n",
       "      <td>0.2</td>\n",
       "      <td>setosa</td>\n",
       "    </tr>\n",
       "    <tr>\n",
       "      <th>...</th>\n",
       "      <td>...</td>\n",
       "      <td>...</td>\n",
       "      <td>...</td>\n",
       "      <td>...</td>\n",
       "      <td>...</td>\n",
       "    </tr>\n",
       "    <tr>\n",
       "      <th>145</th>\n",
       "      <td>6.7</td>\n",
       "      <td>3.0</td>\n",
       "      <td>5.2</td>\n",
       "      <td>2.3</td>\n",
       "      <td>virginica</td>\n",
       "    </tr>\n",
       "    <tr>\n",
       "      <th>146</th>\n",
       "      <td>6.3</td>\n",
       "      <td>2.5</td>\n",
       "      <td>5.0</td>\n",
       "      <td>1.9</td>\n",
       "      <td>virginica</td>\n",
       "    </tr>\n",
       "    <tr>\n",
       "      <th>147</th>\n",
       "      <td>6.5</td>\n",
       "      <td>3.0</td>\n",
       "      <td>5.2</td>\n",
       "      <td>2.0</td>\n",
       "      <td>virginica</td>\n",
       "    </tr>\n",
       "    <tr>\n",
       "      <th>148</th>\n",
       "      <td>6.2</td>\n",
       "      <td>3.4</td>\n",
       "      <td>5.4</td>\n",
       "      <td>2.3</td>\n",
       "      <td>virginica</td>\n",
       "    </tr>\n",
       "    <tr>\n",
       "      <th>149</th>\n",
       "      <td>5.9</td>\n",
       "      <td>3.0</td>\n",
       "      <td>5.1</td>\n",
       "      <td>1.8</td>\n",
       "      <td>virginica</td>\n",
       "    </tr>\n",
       "  </tbody>\n",
       "</table>\n",
       "<p>150 rows × 5 columns</p>\n",
       "</div>"
      ],
      "text/plain": [
       "     sepal_length  sepal_width  petal_length  petal_width    species\n",
       "0             5.1          3.5           1.4          0.2     setosa\n",
       "1             4.9          3.0           1.4          0.2     setosa\n",
       "2             4.7          3.2           1.3          0.2     setosa\n",
       "3             4.6          3.1           1.5          0.2     setosa\n",
       "4             5.0          3.6           1.4          0.2     setosa\n",
       "..            ...          ...           ...          ...        ...\n",
       "145           6.7          3.0           5.2          2.3  virginica\n",
       "146           6.3          2.5           5.0          1.9  virginica\n",
       "147           6.5          3.0           5.2          2.0  virginica\n",
       "148           6.2          3.4           5.4          2.3  virginica\n",
       "149           5.9          3.0           5.1          1.8  virginica\n",
       "\n",
       "[150 rows x 5 columns]"
      ]
     },
     "execution_count": 3,
     "metadata": {},
     "output_type": "execute_result"
    }
   ],
   "source": [
    "df"
   ]
  },
  {
   "cell_type": "raw",
   "id": "cba86fd3-b8f8-420e-a547-bf79faf73b1b",
   "metadata": {},
   "source": [
    "Show the dimensions"
   ]
  },
  {
   "cell_type": "code",
   "execution_count": 4,
   "id": "758e1856-c4e5-4dfa-a3c0-8e0f1093524a",
   "metadata": {},
   "outputs": [
    {
     "data": {
      "text/plain": [
       "(150, 5)"
      ]
     },
     "execution_count": 4,
     "metadata": {},
     "output_type": "execute_result"
    }
   ],
   "source": [
    "df.shape"
   ]
  },
  {
   "cell_type": "raw",
   "id": "3d3851e6-1a3c-4be7-80b3-cd37d55b480f",
   "metadata": {},
   "source": [
    "show the names of all columns present in the dataset"
   ]
  },
  {
   "cell_type": "code",
   "execution_count": 5,
   "id": "61e3ea6d-c0c3-4a83-8191-2e22c2c0220f",
   "metadata": {},
   "outputs": [
    {
     "data": {
      "text/plain": [
       "Index(['sepal_length', 'sepal_width', 'petal_length', 'petal_width',\n",
       "       'species'],\n",
       "      dtype='object')"
      ]
     },
     "execution_count": 5,
     "metadata": {},
     "output_type": "execute_result"
    }
   ],
   "source": [
    "df.columns"
   ]
  },
  {
   "cell_type": "raw",
   "id": "38e1f305-68a3-4cac-ada3-c581ea49f423",
   "metadata": {},
   "source": [
    "shows information of dataset"
   ]
  },
  {
   "cell_type": "code",
   "execution_count": 6,
   "id": "01364a38-5f32-45e2-863d-3468578f1aff",
   "metadata": {},
   "outputs": [
    {
     "name": "stdout",
     "output_type": "stream",
     "text": [
      "<class 'pandas.core.frame.DataFrame'>\n",
      "RangeIndex: 150 entries, 0 to 149\n",
      "Data columns (total 5 columns):\n",
      " #   Column        Non-Null Count  Dtype  \n",
      "---  ------        --------------  -----  \n",
      " 0   sepal_length  150 non-null    float64\n",
      " 1   sepal_width   150 non-null    float64\n",
      " 2   petal_length  150 non-null    float64\n",
      " 3   petal_width   150 non-null    float64\n",
      " 4   species       150 non-null    object \n",
      "dtypes: float64(4), object(1)\n",
      "memory usage: 6.0+ KB\n"
     ]
    }
   ],
   "source": [
    "df.info()"
   ]
  },
  {
   "cell_type": "raw",
   "id": "32a3705a-0712-4186-8582-366caea63c0c",
   "metadata": {},
   "source": [
    "showing missing values in boolean type"
   ]
  },
  {
   "cell_type": "code",
   "execution_count": 7,
   "id": "a7242f20-8c26-4f74-9322-c238c1fd20e6",
   "metadata": {},
   "outputs": [
    {
     "data": {
      "text/html": [
       "<div>\n",
       "<style scoped>\n",
       "    .dataframe tbody tr th:only-of-type {\n",
       "        vertical-align: middle;\n",
       "    }\n",
       "\n",
       "    .dataframe tbody tr th {\n",
       "        vertical-align: top;\n",
       "    }\n",
       "\n",
       "    .dataframe thead th {\n",
       "        text-align: right;\n",
       "    }\n",
       "</style>\n",
       "<table border=\"1\" class=\"dataframe\">\n",
       "  <thead>\n",
       "    <tr style=\"text-align: right;\">\n",
       "      <th></th>\n",
       "      <th>sepal_length</th>\n",
       "      <th>sepal_width</th>\n",
       "      <th>petal_length</th>\n",
       "      <th>petal_width</th>\n",
       "      <th>species</th>\n",
       "    </tr>\n",
       "  </thead>\n",
       "  <tbody>\n",
       "    <tr>\n",
       "      <th>0</th>\n",
       "      <td>False</td>\n",
       "      <td>False</td>\n",
       "      <td>False</td>\n",
       "      <td>False</td>\n",
       "      <td>False</td>\n",
       "    </tr>\n",
       "    <tr>\n",
       "      <th>1</th>\n",
       "      <td>False</td>\n",
       "      <td>False</td>\n",
       "      <td>False</td>\n",
       "      <td>False</td>\n",
       "      <td>False</td>\n",
       "    </tr>\n",
       "    <tr>\n",
       "      <th>2</th>\n",
       "      <td>False</td>\n",
       "      <td>False</td>\n",
       "      <td>False</td>\n",
       "      <td>False</td>\n",
       "      <td>False</td>\n",
       "    </tr>\n",
       "    <tr>\n",
       "      <th>3</th>\n",
       "      <td>False</td>\n",
       "      <td>False</td>\n",
       "      <td>False</td>\n",
       "      <td>False</td>\n",
       "      <td>False</td>\n",
       "    </tr>\n",
       "    <tr>\n",
       "      <th>4</th>\n",
       "      <td>False</td>\n",
       "      <td>False</td>\n",
       "      <td>False</td>\n",
       "      <td>False</td>\n",
       "      <td>False</td>\n",
       "    </tr>\n",
       "    <tr>\n",
       "      <th>...</th>\n",
       "      <td>...</td>\n",
       "      <td>...</td>\n",
       "      <td>...</td>\n",
       "      <td>...</td>\n",
       "      <td>...</td>\n",
       "    </tr>\n",
       "    <tr>\n",
       "      <th>145</th>\n",
       "      <td>False</td>\n",
       "      <td>False</td>\n",
       "      <td>False</td>\n",
       "      <td>False</td>\n",
       "      <td>False</td>\n",
       "    </tr>\n",
       "    <tr>\n",
       "      <th>146</th>\n",
       "      <td>False</td>\n",
       "      <td>False</td>\n",
       "      <td>False</td>\n",
       "      <td>False</td>\n",
       "      <td>False</td>\n",
       "    </tr>\n",
       "    <tr>\n",
       "      <th>147</th>\n",
       "      <td>False</td>\n",
       "      <td>False</td>\n",
       "      <td>False</td>\n",
       "      <td>False</td>\n",
       "      <td>False</td>\n",
       "    </tr>\n",
       "    <tr>\n",
       "      <th>148</th>\n",
       "      <td>False</td>\n",
       "      <td>False</td>\n",
       "      <td>False</td>\n",
       "      <td>False</td>\n",
       "      <td>False</td>\n",
       "    </tr>\n",
       "    <tr>\n",
       "      <th>149</th>\n",
       "      <td>False</td>\n",
       "      <td>False</td>\n",
       "      <td>False</td>\n",
       "      <td>False</td>\n",
       "      <td>False</td>\n",
       "    </tr>\n",
       "  </tbody>\n",
       "</table>\n",
       "<p>150 rows × 5 columns</p>\n",
       "</div>"
      ],
      "text/plain": [
       "     sepal_length  sepal_width  petal_length  petal_width  species\n",
       "0           False        False         False        False    False\n",
       "1           False        False         False        False    False\n",
       "2           False        False         False        False    False\n",
       "3           False        False         False        False    False\n",
       "4           False        False         False        False    False\n",
       "..            ...          ...           ...          ...      ...\n",
       "145         False        False         False        False    False\n",
       "146         False        False         False        False    False\n",
       "147         False        False         False        False    False\n",
       "148         False        False         False        False    False\n",
       "149         False        False         False        False    False\n",
       "\n",
       "[150 rows x 5 columns]"
      ]
     },
     "execution_count": 7,
     "metadata": {},
     "output_type": "execute_result"
    }
   ],
   "source": [
    "df.isnull()"
   ]
  },
  {
   "cell_type": "raw",
   "id": "51097a6d-ddf6-4a3f-b254-ff83e7c1ded1",
   "metadata": {},
   "source": [
    "Checking missing values in a dataframe"
   ]
  },
  {
   "cell_type": "code",
   "execution_count": 8,
   "id": "0c714b97-9037-4083-8c49-9ce7a148618b",
   "metadata": {},
   "outputs": [
    {
     "data": {
      "text/plain": [
       "sepal_length    0\n",
       "sepal_width     0\n",
       "petal_length    0\n",
       "petal_width     0\n",
       "species         0\n",
       "dtype: int64"
      ]
     },
     "execution_count": 8,
     "metadata": {},
     "output_type": "execute_result"
    }
   ],
   "source": [
    "df.isnull().sum()"
   ]
  },
  {
   "cell_type": "raw",
   "id": "e7d49926-0709-4030-8b10-cd62f95bc4fa",
   "metadata": {},
   "source": [
    "It gives statistical summary of a numerical column"
   ]
  },
  {
   "cell_type": "code",
   "execution_count": 9,
   "id": "88f8c2ff-c6bf-42a3-93b9-2c3f1f3feadd",
   "metadata": {},
   "outputs": [
    {
     "data": {
      "text/html": [
       "<div>\n",
       "<style scoped>\n",
       "    .dataframe tbody tr th:only-of-type {\n",
       "        vertical-align: middle;\n",
       "    }\n",
       "\n",
       "    .dataframe tbody tr th {\n",
       "        vertical-align: top;\n",
       "    }\n",
       "\n",
       "    .dataframe thead th {\n",
       "        text-align: right;\n",
       "    }\n",
       "</style>\n",
       "<table border=\"1\" class=\"dataframe\">\n",
       "  <thead>\n",
       "    <tr style=\"text-align: right;\">\n",
       "      <th></th>\n",
       "      <th>sepal_length</th>\n",
       "      <th>sepal_width</th>\n",
       "      <th>petal_length</th>\n",
       "      <th>petal_width</th>\n",
       "    </tr>\n",
       "  </thead>\n",
       "  <tbody>\n",
       "    <tr>\n",
       "      <th>count</th>\n",
       "      <td>150.000000</td>\n",
       "      <td>150.000000</td>\n",
       "      <td>150.000000</td>\n",
       "      <td>150.000000</td>\n",
       "    </tr>\n",
       "    <tr>\n",
       "      <th>mean</th>\n",
       "      <td>5.843333</td>\n",
       "      <td>3.054000</td>\n",
       "      <td>3.758667</td>\n",
       "      <td>1.198667</td>\n",
       "    </tr>\n",
       "    <tr>\n",
       "      <th>std</th>\n",
       "      <td>0.828066</td>\n",
       "      <td>0.433594</td>\n",
       "      <td>1.764420</td>\n",
       "      <td>0.763161</td>\n",
       "    </tr>\n",
       "    <tr>\n",
       "      <th>min</th>\n",
       "      <td>4.300000</td>\n",
       "      <td>2.000000</td>\n",
       "      <td>1.000000</td>\n",
       "      <td>0.100000</td>\n",
       "    </tr>\n",
       "    <tr>\n",
       "      <th>25%</th>\n",
       "      <td>5.100000</td>\n",
       "      <td>2.800000</td>\n",
       "      <td>1.600000</td>\n",
       "      <td>0.300000</td>\n",
       "    </tr>\n",
       "    <tr>\n",
       "      <th>50%</th>\n",
       "      <td>5.800000</td>\n",
       "      <td>3.000000</td>\n",
       "      <td>4.350000</td>\n",
       "      <td>1.300000</td>\n",
       "    </tr>\n",
       "    <tr>\n",
       "      <th>75%</th>\n",
       "      <td>6.400000</td>\n",
       "      <td>3.300000</td>\n",
       "      <td>5.100000</td>\n",
       "      <td>1.800000</td>\n",
       "    </tr>\n",
       "    <tr>\n",
       "      <th>max</th>\n",
       "      <td>7.900000</td>\n",
       "      <td>4.400000</td>\n",
       "      <td>6.900000</td>\n",
       "      <td>2.500000</td>\n",
       "    </tr>\n",
       "  </tbody>\n",
       "</table>\n",
       "</div>"
      ],
      "text/plain": [
       "       sepal_length  sepal_width  petal_length  petal_width\n",
       "count    150.000000   150.000000    150.000000   150.000000\n",
       "mean       5.843333     3.054000      3.758667     1.198667\n",
       "std        0.828066     0.433594      1.764420     0.763161\n",
       "min        4.300000     2.000000      1.000000     0.100000\n",
       "25%        5.100000     2.800000      1.600000     0.300000\n",
       "50%        5.800000     3.000000      4.350000     1.300000\n",
       "75%        6.400000     3.300000      5.100000     1.800000\n",
       "max        7.900000     4.400000      6.900000     2.500000"
      ]
     },
     "execution_count": 9,
     "metadata": {},
     "output_type": "execute_result"
    }
   ],
   "source": [
    "df.describe()"
   ]
  },
  {
   "cell_type": "raw",
   "id": "5079117a-b3c9-4ddc-a11d-4f3aa0c9e7e0",
   "metadata": {},
   "source": [
    "Showing datatypes of each column"
   ]
  },
  {
   "cell_type": "code",
   "execution_count": 10,
   "id": "d755e286-fe93-4420-85ea-08bc6933f2fd",
   "metadata": {},
   "outputs": [
    {
     "data": {
      "text/plain": [
       "sepal_length    float64\n",
       "sepal_width     float64\n",
       "petal_length    float64\n",
       "petal_width     float64\n",
       "species          object\n",
       "dtype: object"
      ]
     },
     "execution_count": 10,
     "metadata": {},
     "output_type": "execute_result"
    }
   ],
   "source": [
    "df.dtypes"
   ]
  },
  {
   "cell_type": "raw",
   "id": "1e144d45-4591-478b-9b2a-3b15bdca55f8",
   "metadata": {},
   "source": [
    "performs grouped aggregation on the DataFrame "
   ]
  },
  {
   "cell_type": "code",
   "execution_count": 12,
   "id": "1e871dc0-2b8e-4b30-bdb6-c9a0176ee798",
   "metadata": {},
   "outputs": [],
   "source": [
    "grouped_stats = df.groupby('species').agg({\n",
    "    'sepal_length': ['mean', 'median', 'min', 'max', 'std'],\n",
    "    'sepal_width': ['mean', 'median', 'min', 'max', 'std'],\n",
    "    'petal_length': ['mean', 'median', 'min', 'max', 'std'],\n",
    "    'petal_width': ['mean', 'median', 'min', 'max', 'std']\n",
    "}).round(2)\n"
   ]
  },
  {
   "cell_type": "raw",
   "id": "f39e3643-31e8-4be9-acf9-d3ad1109bb20",
   "metadata": {},
   "source": [
    "Print grouped_stats"
   ]
  },
  {
   "cell_type": "code",
   "execution_count": 14,
   "id": "15199a5f-053f-47ec-9c74-2b65d832d9dc",
   "metadata": {},
   "outputs": [
    {
     "name": "stdout",
     "output_type": "stream",
     "text": [
      "           sepal_length                        sepal_width                   \\\n",
      "                   mean median  min  max   std        mean median  min  max   \n",
      "species                                                                       \n",
      "setosa             5.01    5.0  4.3  5.8  0.35        3.42    3.4  2.3  4.4   \n",
      "versicolor         5.94    5.9  4.9  7.0  0.52        2.77    2.8  2.0  3.4   \n",
      "virginica          6.59    6.5  4.9  7.9  0.64        2.97    3.0  2.2  3.8   \n",
      "\n",
      "                 petal_length                        petal_width              \\\n",
      "             std         mean median  min  max   std        mean median  min   \n",
      "species                                                                        \n",
      "setosa      0.38         1.46   1.50  1.0  1.9  0.17        0.24    0.2  0.1   \n",
      "versicolor  0.31         4.26   4.35  3.0  5.1  0.47        1.33    1.3  1.0   \n",
      "virginica   0.32         5.55   5.55  4.5  6.9  0.55        2.03    2.0  1.4   \n",
      "\n",
      "                       \n",
      "            max   std  \n",
      "species                \n",
      "setosa      0.6  0.11  \n",
      "versicolor  1.8  0.20  \n",
      "virginica   2.5  0.27  \n"
     ]
    }
   ],
   "source": [
    "print(grouped_stats)\n"
   ]
  },
  {
   "cell_type": "code",
   "execution_count": 15,
   "id": "f1a15d00-0a36-4daf-999f-e57d4c5bb969",
   "metadata": {},
   "outputs": [
    {
     "data": {
      "text/html": [
       "<div>\n",
       "<style scoped>\n",
       "    .dataframe tbody tr th:only-of-type {\n",
       "        vertical-align: middle;\n",
       "    }\n",
       "\n",
       "    .dataframe tbody tr th {\n",
       "        vertical-align: top;\n",
       "    }\n",
       "\n",
       "    .dataframe thead tr th {\n",
       "        text-align: left;\n",
       "    }\n",
       "\n",
       "    .dataframe thead tr:last-of-type th {\n",
       "        text-align: right;\n",
       "    }\n",
       "</style>\n",
       "<table border=\"1\" class=\"dataframe\">\n",
       "  <thead>\n",
       "    <tr>\n",
       "      <th></th>\n",
       "      <th colspan=\"5\" halign=\"left\">sepal_length</th>\n",
       "      <th colspan=\"5\" halign=\"left\">sepal_width</th>\n",
       "      <th colspan=\"5\" halign=\"left\">petal_length</th>\n",
       "      <th colspan=\"5\" halign=\"left\">petal_width</th>\n",
       "    </tr>\n",
       "    <tr>\n",
       "      <th></th>\n",
       "      <th>mean</th>\n",
       "      <th>median</th>\n",
       "      <th>min</th>\n",
       "      <th>max</th>\n",
       "      <th>std</th>\n",
       "      <th>mean</th>\n",
       "      <th>median</th>\n",
       "      <th>min</th>\n",
       "      <th>max</th>\n",
       "      <th>std</th>\n",
       "      <th>mean</th>\n",
       "      <th>median</th>\n",
       "      <th>min</th>\n",
       "      <th>max</th>\n",
       "      <th>std</th>\n",
       "      <th>mean</th>\n",
       "      <th>median</th>\n",
       "      <th>min</th>\n",
       "      <th>max</th>\n",
       "      <th>std</th>\n",
       "    </tr>\n",
       "    <tr>\n",
       "      <th>species</th>\n",
       "      <th></th>\n",
       "      <th></th>\n",
       "      <th></th>\n",
       "      <th></th>\n",
       "      <th></th>\n",
       "      <th></th>\n",
       "      <th></th>\n",
       "      <th></th>\n",
       "      <th></th>\n",
       "      <th></th>\n",
       "      <th></th>\n",
       "      <th></th>\n",
       "      <th></th>\n",
       "      <th></th>\n",
       "      <th></th>\n",
       "      <th></th>\n",
       "      <th></th>\n",
       "      <th></th>\n",
       "      <th></th>\n",
       "      <th></th>\n",
       "    </tr>\n",
       "  </thead>\n",
       "  <tbody>\n",
       "    <tr>\n",
       "      <th>setosa</th>\n",
       "      <td>5.01</td>\n",
       "      <td>5.0</td>\n",
       "      <td>4.3</td>\n",
       "      <td>5.8</td>\n",
       "      <td>0.35</td>\n",
       "      <td>3.42</td>\n",
       "      <td>3.4</td>\n",
       "      <td>2.3</td>\n",
       "      <td>4.4</td>\n",
       "      <td>0.38</td>\n",
       "      <td>1.46</td>\n",
       "      <td>1.50</td>\n",
       "      <td>1.0</td>\n",
       "      <td>1.9</td>\n",
       "      <td>0.17</td>\n",
       "      <td>0.24</td>\n",
       "      <td>0.2</td>\n",
       "      <td>0.1</td>\n",
       "      <td>0.6</td>\n",
       "      <td>0.11</td>\n",
       "    </tr>\n",
       "    <tr>\n",
       "      <th>versicolor</th>\n",
       "      <td>5.94</td>\n",
       "      <td>5.9</td>\n",
       "      <td>4.9</td>\n",
       "      <td>7.0</td>\n",
       "      <td>0.52</td>\n",
       "      <td>2.77</td>\n",
       "      <td>2.8</td>\n",
       "      <td>2.0</td>\n",
       "      <td>3.4</td>\n",
       "      <td>0.31</td>\n",
       "      <td>4.26</td>\n",
       "      <td>4.35</td>\n",
       "      <td>3.0</td>\n",
       "      <td>5.1</td>\n",
       "      <td>0.47</td>\n",
       "      <td>1.33</td>\n",
       "      <td>1.3</td>\n",
       "      <td>1.0</td>\n",
       "      <td>1.8</td>\n",
       "      <td>0.20</td>\n",
       "    </tr>\n",
       "    <tr>\n",
       "      <th>virginica</th>\n",
       "      <td>6.59</td>\n",
       "      <td>6.5</td>\n",
       "      <td>4.9</td>\n",
       "      <td>7.9</td>\n",
       "      <td>0.64</td>\n",
       "      <td>2.97</td>\n",
       "      <td>3.0</td>\n",
       "      <td>2.2</td>\n",
       "      <td>3.8</td>\n",
       "      <td>0.32</td>\n",
       "      <td>5.55</td>\n",
       "      <td>5.55</td>\n",
       "      <td>4.5</td>\n",
       "      <td>6.9</td>\n",
       "      <td>0.55</td>\n",
       "      <td>2.03</td>\n",
       "      <td>2.0</td>\n",
       "      <td>1.4</td>\n",
       "      <td>2.5</td>\n",
       "      <td>0.27</td>\n",
       "    </tr>\n",
       "  </tbody>\n",
       "</table>\n",
       "</div>"
      ],
      "text/plain": [
       "           sepal_length                        sepal_width                   \\\n",
       "                   mean median  min  max   std        mean median  min  max   \n",
       "species                                                                       \n",
       "setosa             5.01    5.0  4.3  5.8  0.35        3.42    3.4  2.3  4.4   \n",
       "versicolor         5.94    5.9  4.9  7.0  0.52        2.77    2.8  2.0  3.4   \n",
       "virginica          6.59    6.5  4.9  7.9  0.64        2.97    3.0  2.2  3.8   \n",
       "\n",
       "                 petal_length                        petal_width              \\\n",
       "             std         mean median  min  max   std        mean median  min   \n",
       "species                                                                        \n",
       "setosa      0.38         1.46   1.50  1.0  1.9  0.17        0.24    0.2  0.1   \n",
       "versicolor  0.31         4.26   4.35  3.0  5.1  0.47        1.33    1.3  1.0   \n",
       "virginica   0.32         5.55   5.55  4.5  6.9  0.55        2.03    2.0  1.4   \n",
       "\n",
       "                       \n",
       "            max   std  \n",
       "species                \n",
       "setosa      0.6  0.11  \n",
       "versicolor  1.8  0.20  \n",
       "virginica   2.5  0.27  "
      ]
     },
     "execution_count": 15,
     "metadata": {},
     "output_type": "execute_result"
    }
   ],
   "source": [
    "grouped_stats"
   ]
  },
  {
   "cell_type": "raw",
   "id": "24cde2b2-8ea0-4998-9d7c-22322315d623",
   "metadata": {},
   "source": [
    "groups the data by 'species', drops the 'species' column, and stores the numeric values in a nested list structure."
   ]
  },
  {
   "cell_type": "code",
   "execution_count": 16,
   "id": "92d612cf-27be-451e-ae2d-bf35de84d32f",
   "metadata": {},
   "outputs": [],
   "source": [
    "species_numeric_values = {\n",
    "    species: group.drop(columns='species').values.tolist()\n",
    "    for species, group in df.groupby('species')\n",
    "}"
   ]
  },
  {
   "cell_type": "raw",
   "id": "b9a4b04c-0c87-4487-85e8-4704b6da1441",
   "metadata": {},
   "source": [
    "print species_numeric_values"
   ]
  },
  {
   "cell_type": "code",
   "execution_count": 17,
   "id": "9fa84416-a6a0-42b0-b4bd-ae3b348d7d9d",
   "metadata": {},
   "outputs": [
    {
     "name": "stdout",
     "output_type": "stream",
     "text": [
      "{'setosa': [[5.1, 3.5, 1.4, 0.2], [4.9, 3.0, 1.4, 0.2], [4.7, 3.2, 1.3, 0.2], [4.6, 3.1, 1.5, 0.2], [5.0, 3.6, 1.4, 0.2], [5.4, 3.9, 1.7, 0.4], [4.6, 3.4, 1.4, 0.3], [5.0, 3.4, 1.5, 0.2], [4.4, 2.9, 1.4, 0.2], [4.9, 3.1, 1.5, 0.1], [5.4, 3.7, 1.5, 0.2], [4.8, 3.4, 1.6, 0.2], [4.8, 3.0, 1.4, 0.1], [4.3, 3.0, 1.1, 0.1], [5.8, 4.0, 1.2, 0.2], [5.7, 4.4, 1.5, 0.4], [5.4, 3.9, 1.3, 0.4], [5.1, 3.5, 1.4, 0.3], [5.7, 3.8, 1.7, 0.3], [5.1, 3.8, 1.5, 0.3], [5.4, 3.4, 1.7, 0.2], [5.1, 3.7, 1.5, 0.4], [4.6, 3.6, 1.0, 0.2], [5.1, 3.3, 1.7, 0.5], [4.8, 3.4, 1.9, 0.2], [5.0, 3.0, 1.6, 0.2], [5.0, 3.4, 1.6, 0.4], [5.2, 3.5, 1.5, 0.2], [5.2, 3.4, 1.4, 0.2], [4.7, 3.2, 1.6, 0.2], [4.8, 3.1, 1.6, 0.2], [5.4, 3.4, 1.5, 0.4], [5.2, 4.1, 1.5, 0.1], [5.5, 4.2, 1.4, 0.2], [4.9, 3.1, 1.5, 0.1], [5.0, 3.2, 1.2, 0.2], [5.5, 3.5, 1.3, 0.2], [4.9, 3.1, 1.5, 0.1], [4.4, 3.0, 1.3, 0.2], [5.1, 3.4, 1.5, 0.2], [5.0, 3.5, 1.3, 0.3], [4.5, 2.3, 1.3, 0.3], [4.4, 3.2, 1.3, 0.2], [5.0, 3.5, 1.6, 0.6], [5.1, 3.8, 1.9, 0.4], [4.8, 3.0, 1.4, 0.3], [5.1, 3.8, 1.6, 0.2], [4.6, 3.2, 1.4, 0.2], [5.3, 3.7, 1.5, 0.2], [5.0, 3.3, 1.4, 0.2]], 'versicolor': [[7.0, 3.2, 4.7, 1.4], [6.4, 3.2, 4.5, 1.5], [6.9, 3.1, 4.9, 1.5], [5.5, 2.3, 4.0, 1.3], [6.5, 2.8, 4.6, 1.5], [5.7, 2.8, 4.5, 1.3], [6.3, 3.3, 4.7, 1.6], [4.9, 2.4, 3.3, 1.0], [6.6, 2.9, 4.6, 1.3], [5.2, 2.7, 3.9, 1.4], [5.0, 2.0, 3.5, 1.0], [5.9, 3.0, 4.2, 1.5], [6.0, 2.2, 4.0, 1.0], [6.1, 2.9, 4.7, 1.4], [5.6, 2.9, 3.6, 1.3], [6.7, 3.1, 4.4, 1.4], [5.6, 3.0, 4.5, 1.5], [5.8, 2.7, 4.1, 1.0], [6.2, 2.2, 4.5, 1.5], [5.6, 2.5, 3.9, 1.1], [5.9, 3.2, 4.8, 1.8], [6.1, 2.8, 4.0, 1.3], [6.3, 2.5, 4.9, 1.5], [6.1, 2.8, 4.7, 1.2], [6.4, 2.9, 4.3, 1.3], [6.6, 3.0, 4.4, 1.4], [6.8, 2.8, 4.8, 1.4], [6.7, 3.0, 5.0, 1.7], [6.0, 2.9, 4.5, 1.5], [5.7, 2.6, 3.5, 1.0], [5.5, 2.4, 3.8, 1.1], [5.5, 2.4, 3.7, 1.0], [5.8, 2.7, 3.9, 1.2], [6.0, 2.7, 5.1, 1.6], [5.4, 3.0, 4.5, 1.5], [6.0, 3.4, 4.5, 1.6], [6.7, 3.1, 4.7, 1.5], [6.3, 2.3, 4.4, 1.3], [5.6, 3.0, 4.1, 1.3], [5.5, 2.5, 4.0, 1.3], [5.5, 2.6, 4.4, 1.2], [6.1, 3.0, 4.6, 1.4], [5.8, 2.6, 4.0, 1.2], [5.0, 2.3, 3.3, 1.0], [5.6, 2.7, 4.2, 1.3], [5.7, 3.0, 4.2, 1.2], [5.7, 2.9, 4.2, 1.3], [6.2, 2.9, 4.3, 1.3], [5.1, 2.5, 3.0, 1.1], [5.7, 2.8, 4.1, 1.3]], 'virginica': [[6.3, 3.3, 6.0, 2.5], [5.8, 2.7, 5.1, 1.9], [7.1, 3.0, 5.9, 2.1], [6.3, 2.9, 5.6, 1.8], [6.5, 3.0, 5.8, 2.2], [7.6, 3.0, 6.6, 2.1], [4.9, 2.5, 4.5, 1.7], [7.3, 2.9, 6.3, 1.8], [6.7, 2.5, 5.8, 1.8], [7.2, 3.6, 6.1, 2.5], [6.5, 3.2, 5.1, 2.0], [6.4, 2.7, 5.3, 1.9], [6.8, 3.0, 5.5, 2.1], [5.7, 2.5, 5.0, 2.0], [5.8, 2.8, 5.1, 2.4], [6.4, 3.2, 5.3, 2.3], [6.5, 3.0, 5.5, 1.8], [7.7, 3.8, 6.7, 2.2], [7.7, 2.6, 6.9, 2.3], [6.0, 2.2, 5.0, 1.5], [6.9, 3.2, 5.7, 2.3], [5.6, 2.8, 4.9, 2.0], [7.7, 2.8, 6.7, 2.0], [6.3, 2.7, 4.9, 1.8], [6.7, 3.3, 5.7, 2.1], [7.2, 3.2, 6.0, 1.8], [6.2, 2.8, 4.8, 1.8], [6.1, 3.0, 4.9, 1.8], [6.4, 2.8, 5.6, 2.1], [7.2, 3.0, 5.8, 1.6], [7.4, 2.8, 6.1, 1.9], [7.9, 3.8, 6.4, 2.0], [6.4, 2.8, 5.6, 2.2], [6.3, 2.8, 5.1, 1.5], [6.1, 2.6, 5.6, 1.4], [7.7, 3.0, 6.1, 2.3], [6.3, 3.4, 5.6, 2.4], [6.4, 3.1, 5.5, 1.8], [6.0, 3.0, 4.8, 1.8], [6.9, 3.1, 5.4, 2.1], [6.7, 3.1, 5.6, 2.4], [6.9, 3.1, 5.1, 2.3], [5.8, 2.7, 5.1, 1.9], [6.8, 3.2, 5.9, 2.3], [6.7, 3.3, 5.7, 2.5], [6.7, 3.0, 5.2, 2.3], [6.3, 2.5, 5.0, 1.9], [6.5, 3.0, 5.2, 2.0], [6.2, 3.4, 5.4, 2.3], [5.9, 3.0, 5.1, 1.8]]}\n"
     ]
    }
   ],
   "source": [
    "print(species_numeric_values)\n"
   ]
  },
  {
   "cell_type": "code",
   "execution_count": 18,
   "id": "d26993c7-f212-4346-983a-eb37b287e1b2",
   "metadata": {},
   "outputs": [
    {
     "data": {
      "text/plain": [
       "{'setosa': [[5.1, 3.5, 1.4, 0.2],\n",
       "  [4.9, 3.0, 1.4, 0.2],\n",
       "  [4.7, 3.2, 1.3, 0.2],\n",
       "  [4.6, 3.1, 1.5, 0.2],\n",
       "  [5.0, 3.6, 1.4, 0.2],\n",
       "  [5.4, 3.9, 1.7, 0.4],\n",
       "  [4.6, 3.4, 1.4, 0.3],\n",
       "  [5.0, 3.4, 1.5, 0.2],\n",
       "  [4.4, 2.9, 1.4, 0.2],\n",
       "  [4.9, 3.1, 1.5, 0.1],\n",
       "  [5.4, 3.7, 1.5, 0.2],\n",
       "  [4.8, 3.4, 1.6, 0.2],\n",
       "  [4.8, 3.0, 1.4, 0.1],\n",
       "  [4.3, 3.0, 1.1, 0.1],\n",
       "  [5.8, 4.0, 1.2, 0.2],\n",
       "  [5.7, 4.4, 1.5, 0.4],\n",
       "  [5.4, 3.9, 1.3, 0.4],\n",
       "  [5.1, 3.5, 1.4, 0.3],\n",
       "  [5.7, 3.8, 1.7, 0.3],\n",
       "  [5.1, 3.8, 1.5, 0.3],\n",
       "  [5.4, 3.4, 1.7, 0.2],\n",
       "  [5.1, 3.7, 1.5, 0.4],\n",
       "  [4.6, 3.6, 1.0, 0.2],\n",
       "  [5.1, 3.3, 1.7, 0.5],\n",
       "  [4.8, 3.4, 1.9, 0.2],\n",
       "  [5.0, 3.0, 1.6, 0.2],\n",
       "  [5.0, 3.4, 1.6, 0.4],\n",
       "  [5.2, 3.5, 1.5, 0.2],\n",
       "  [5.2, 3.4, 1.4, 0.2],\n",
       "  [4.7, 3.2, 1.6, 0.2],\n",
       "  [4.8, 3.1, 1.6, 0.2],\n",
       "  [5.4, 3.4, 1.5, 0.4],\n",
       "  [5.2, 4.1, 1.5, 0.1],\n",
       "  [5.5, 4.2, 1.4, 0.2],\n",
       "  [4.9, 3.1, 1.5, 0.1],\n",
       "  [5.0, 3.2, 1.2, 0.2],\n",
       "  [5.5, 3.5, 1.3, 0.2],\n",
       "  [4.9, 3.1, 1.5, 0.1],\n",
       "  [4.4, 3.0, 1.3, 0.2],\n",
       "  [5.1, 3.4, 1.5, 0.2],\n",
       "  [5.0, 3.5, 1.3, 0.3],\n",
       "  [4.5, 2.3, 1.3, 0.3],\n",
       "  [4.4, 3.2, 1.3, 0.2],\n",
       "  [5.0, 3.5, 1.6, 0.6],\n",
       "  [5.1, 3.8, 1.9, 0.4],\n",
       "  [4.8, 3.0, 1.4, 0.3],\n",
       "  [5.1, 3.8, 1.6, 0.2],\n",
       "  [4.6, 3.2, 1.4, 0.2],\n",
       "  [5.3, 3.7, 1.5, 0.2],\n",
       "  [5.0, 3.3, 1.4, 0.2]],\n",
       " 'versicolor': [[7.0, 3.2, 4.7, 1.4],\n",
       "  [6.4, 3.2, 4.5, 1.5],\n",
       "  [6.9, 3.1, 4.9, 1.5],\n",
       "  [5.5, 2.3, 4.0, 1.3],\n",
       "  [6.5, 2.8, 4.6, 1.5],\n",
       "  [5.7, 2.8, 4.5, 1.3],\n",
       "  [6.3, 3.3, 4.7, 1.6],\n",
       "  [4.9, 2.4, 3.3, 1.0],\n",
       "  [6.6, 2.9, 4.6, 1.3],\n",
       "  [5.2, 2.7, 3.9, 1.4],\n",
       "  [5.0, 2.0, 3.5, 1.0],\n",
       "  [5.9, 3.0, 4.2, 1.5],\n",
       "  [6.0, 2.2, 4.0, 1.0],\n",
       "  [6.1, 2.9, 4.7, 1.4],\n",
       "  [5.6, 2.9, 3.6, 1.3],\n",
       "  [6.7, 3.1, 4.4, 1.4],\n",
       "  [5.6, 3.0, 4.5, 1.5],\n",
       "  [5.8, 2.7, 4.1, 1.0],\n",
       "  [6.2, 2.2, 4.5, 1.5],\n",
       "  [5.6, 2.5, 3.9, 1.1],\n",
       "  [5.9, 3.2, 4.8, 1.8],\n",
       "  [6.1, 2.8, 4.0, 1.3],\n",
       "  [6.3, 2.5, 4.9, 1.5],\n",
       "  [6.1, 2.8, 4.7, 1.2],\n",
       "  [6.4, 2.9, 4.3, 1.3],\n",
       "  [6.6, 3.0, 4.4, 1.4],\n",
       "  [6.8, 2.8, 4.8, 1.4],\n",
       "  [6.7, 3.0, 5.0, 1.7],\n",
       "  [6.0, 2.9, 4.5, 1.5],\n",
       "  [5.7, 2.6, 3.5, 1.0],\n",
       "  [5.5, 2.4, 3.8, 1.1],\n",
       "  [5.5, 2.4, 3.7, 1.0],\n",
       "  [5.8, 2.7, 3.9, 1.2],\n",
       "  [6.0, 2.7, 5.1, 1.6],\n",
       "  [5.4, 3.0, 4.5, 1.5],\n",
       "  [6.0, 3.4, 4.5, 1.6],\n",
       "  [6.7, 3.1, 4.7, 1.5],\n",
       "  [6.3, 2.3, 4.4, 1.3],\n",
       "  [5.6, 3.0, 4.1, 1.3],\n",
       "  [5.5, 2.5, 4.0, 1.3],\n",
       "  [5.5, 2.6, 4.4, 1.2],\n",
       "  [6.1, 3.0, 4.6, 1.4],\n",
       "  [5.8, 2.6, 4.0, 1.2],\n",
       "  [5.0, 2.3, 3.3, 1.0],\n",
       "  [5.6, 2.7, 4.2, 1.3],\n",
       "  [5.7, 3.0, 4.2, 1.2],\n",
       "  [5.7, 2.9, 4.2, 1.3],\n",
       "  [6.2, 2.9, 4.3, 1.3],\n",
       "  [5.1, 2.5, 3.0, 1.1],\n",
       "  [5.7, 2.8, 4.1, 1.3]],\n",
       " 'virginica': [[6.3, 3.3, 6.0, 2.5],\n",
       "  [5.8, 2.7, 5.1, 1.9],\n",
       "  [7.1, 3.0, 5.9, 2.1],\n",
       "  [6.3, 2.9, 5.6, 1.8],\n",
       "  [6.5, 3.0, 5.8, 2.2],\n",
       "  [7.6, 3.0, 6.6, 2.1],\n",
       "  [4.9, 2.5, 4.5, 1.7],\n",
       "  [7.3, 2.9, 6.3, 1.8],\n",
       "  [6.7, 2.5, 5.8, 1.8],\n",
       "  [7.2, 3.6, 6.1, 2.5],\n",
       "  [6.5, 3.2, 5.1, 2.0],\n",
       "  [6.4, 2.7, 5.3, 1.9],\n",
       "  [6.8, 3.0, 5.5, 2.1],\n",
       "  [5.7, 2.5, 5.0, 2.0],\n",
       "  [5.8, 2.8, 5.1, 2.4],\n",
       "  [6.4, 3.2, 5.3, 2.3],\n",
       "  [6.5, 3.0, 5.5, 1.8],\n",
       "  [7.7, 3.8, 6.7, 2.2],\n",
       "  [7.7, 2.6, 6.9, 2.3],\n",
       "  [6.0, 2.2, 5.0, 1.5],\n",
       "  [6.9, 3.2, 5.7, 2.3],\n",
       "  [5.6, 2.8, 4.9, 2.0],\n",
       "  [7.7, 2.8, 6.7, 2.0],\n",
       "  [6.3, 2.7, 4.9, 1.8],\n",
       "  [6.7, 3.3, 5.7, 2.1],\n",
       "  [7.2, 3.2, 6.0, 1.8],\n",
       "  [6.2, 2.8, 4.8, 1.8],\n",
       "  [6.1, 3.0, 4.9, 1.8],\n",
       "  [6.4, 2.8, 5.6, 2.1],\n",
       "  [7.2, 3.0, 5.8, 1.6],\n",
       "  [7.4, 2.8, 6.1, 1.9],\n",
       "  [7.9, 3.8, 6.4, 2.0],\n",
       "  [6.4, 2.8, 5.6, 2.2],\n",
       "  [6.3, 2.8, 5.1, 1.5],\n",
       "  [6.1, 2.6, 5.6, 1.4],\n",
       "  [7.7, 3.0, 6.1, 2.3],\n",
       "  [6.3, 3.4, 5.6, 2.4],\n",
       "  [6.4, 3.1, 5.5, 1.8],\n",
       "  [6.0, 3.0, 4.8, 1.8],\n",
       "  [6.9, 3.1, 5.4, 2.1],\n",
       "  [6.7, 3.1, 5.6, 2.4],\n",
       "  [6.9, 3.1, 5.1, 2.3],\n",
       "  [5.8, 2.7, 5.1, 1.9],\n",
       "  [6.8, 3.2, 5.9, 2.3],\n",
       "  [6.7, 3.3, 5.7, 2.5],\n",
       "  [6.7, 3.0, 5.2, 2.3],\n",
       "  [6.3, 2.5, 5.0, 1.9],\n",
       "  [6.5, 3.0, 5.2, 2.0],\n",
       "  [6.2, 3.4, 5.4, 2.3],\n",
       "  [5.9, 3.0, 5.1, 1.8]]}"
      ]
     },
     "execution_count": 18,
     "metadata": {},
     "output_type": "execute_result"
    }
   ],
   "source": [
    "species_numeric_values\n"
   ]
  },
  {
   "cell_type": "code",
   "execution_count": 19,
   "id": "52eac567-d3dd-48d6-96cb-088541d6b248",
   "metadata": {},
   "outputs": [],
   "source": [
    "species_descriptive_stats = {\n",
    "    species: df[df['species'] == species]                    # Filter rows for this species\n",
    "              .drop(columns='species')                       #  Remove the species column (only keep numeric)\n",
    "              .describe(percentiles=[0.25, 0.5, 0.75])        # Get descriptive statistics\n",
    "              .round(2)                                      #  Round all results to 2 decimal places\n",
    "    for species in df['species'].unique()                    # Repeat for each unique species\n",
    "}\n"
   ]
  },
  {
   "cell_type": "code",
   "execution_count": 20,
   "id": "180787df-5bc9-4c24-a646-c3a0434ba44d",
   "metadata": {},
   "outputs": [
    {
     "data": {
      "text/plain": [
       "{'setosa':        sepal_length  sepal_width  petal_length  petal_width\n",
       " count         50.00        50.00         50.00        50.00\n",
       " mean           5.01         3.42          1.46         0.24\n",
       " std            0.35         0.38          0.17         0.11\n",
       " min            4.30         2.30          1.00         0.10\n",
       " 25%            4.80         3.12          1.40         0.20\n",
       " 50%            5.00         3.40          1.50         0.20\n",
       " 75%            5.20         3.68          1.58         0.30\n",
       " max            5.80         4.40          1.90         0.60,\n",
       " 'versicolor':        sepal_length  sepal_width  petal_length  petal_width\n",
       " count         50.00        50.00         50.00        50.00\n",
       " mean           5.94         2.77          4.26         1.33\n",
       " std            0.52         0.31          0.47         0.20\n",
       " min            4.90         2.00          3.00         1.00\n",
       " 25%            5.60         2.52          4.00         1.20\n",
       " 50%            5.90         2.80          4.35         1.30\n",
       " 75%            6.30         3.00          4.60         1.50\n",
       " max            7.00         3.40          5.10         1.80,\n",
       " 'virginica':        sepal_length  sepal_width  petal_length  petal_width\n",
       " count         50.00        50.00         50.00        50.00\n",
       " mean           6.59         2.97          5.55         2.03\n",
       " std            0.64         0.32          0.55         0.27\n",
       " min            4.90         2.20          4.50         1.40\n",
       " 25%            6.22         2.80          5.10         1.80\n",
       " 50%            6.50         3.00          5.55         2.00\n",
       " 75%            6.90         3.18          5.88         2.30\n",
       " max            7.90         3.80          6.90         2.50}"
      ]
     },
     "execution_count": 20,
     "metadata": {},
     "output_type": "execute_result"
    }
   ],
   "source": [
    "species_descriptive_stats"
   ]
  },
  {
   "cell_type": "code",
   "execution_count": null,
   "id": "f1e98a68-5575-4d9b-aeb7-7191e5652024",
   "metadata": {},
   "outputs": [],
   "source": []
  }
 ],
 "metadata": {
  "kernelspec": {
   "display_name": "Python 3 (ipykernel)",
   "language": "python",
   "name": "python3"
  },
  "language_info": {
   "codemirror_mode": {
    "name": "ipython",
    "version": 3
   },
   "file_extension": ".py",
   "mimetype": "text/x-python",
   "name": "python",
   "nbconvert_exporter": "python",
   "pygments_lexer": "ipython3",
   "version": "3.13.0"
  }
 },
 "nbformat": 4,
 "nbformat_minor": 5
}
