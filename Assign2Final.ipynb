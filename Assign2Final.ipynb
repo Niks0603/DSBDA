{
 "cells": [
  {
   "cell_type": "raw",
   "id": "2a4ef347-968b-468f-af59-389bda7b2413",
   "metadata": {},
   "source": [
    "import all the required python libraries"
   ]
  },
  {
   "cell_type": "code",
   "execution_count": 1,
   "id": "539f46dd-1326-43a9-b74d-2c66d787cb3f",
   "metadata": {},
   "outputs": [],
   "source": [
    "import pandas as pd\n",
    "import numpy as np\n",
    "import matplotlib.pyplot as plt\n",
    "import seaborn as sns"
   ]
  },
  {
   "cell_type": "raw",
   "id": "7bac8cbd-7726-4696-97ba-b10f6780f69f",
   "metadata": {},
   "source": [
    "load the dataset name as (student_performance_final)"
   ]
  },
  {
   "cell_type": "code",
   "execution_count": 2,
   "id": "23459b22-5e7e-4354-a2f1-30b96727b060",
   "metadata": {},
   "outputs": [
    {
     "data": {
      "text/html": [
       "<div>\n",
       "<style scoped>\n",
       "    .dataframe tbody tr th:only-of-type {\n",
       "        vertical-align: middle;\n",
       "    }\n",
       "\n",
       "    .dataframe tbody tr th {\n",
       "        vertical-align: top;\n",
       "    }\n",
       "\n",
       "    .dataframe thead th {\n",
       "        text-align: right;\n",
       "    }\n",
       "</style>\n",
       "<table border=\"1\" class=\"dataframe\">\n",
       "  <thead>\n",
       "    <tr style=\"text-align: right;\">\n",
       "      <th></th>\n",
       "      <th>math score</th>\n",
       "      <th>Reading Score</th>\n",
       "      <th>Writing Score</th>\n",
       "      <th>Placement Score</th>\n",
       "      <th>Club join Date</th>\n",
       "    </tr>\n",
       "  </thead>\n",
       "  <tbody>\n",
       "    <tr>\n",
       "      <th>0</th>\n",
       "      <td>98</td>\n",
       "      <td>78.0</td>\n",
       "      <td>45</td>\n",
       "      <td>99.0</td>\n",
       "      <td>2011.3</td>\n",
       "    </tr>\n",
       "    <tr>\n",
       "      <th>1</th>\n",
       "      <td>25</td>\n",
       "      <td>50.0</td>\n",
       "      <td>34</td>\n",
       "      <td>67.2</td>\n",
       "      <td>2022.7</td>\n",
       "    </tr>\n",
       "    <tr>\n",
       "      <th>2</th>\n",
       "      <td>37</td>\n",
       "      <td>49.0</td>\n",
       "      <td>45</td>\n",
       "      <td>23.4</td>\n",
       "      <td>2022.6</td>\n",
       "    </tr>\n",
       "    <tr>\n",
       "      <th>3</th>\n",
       "      <td>90</td>\n",
       "      <td>48.0</td>\n",
       "      <td>NaN</td>\n",
       "      <td>34.7</td>\n",
       "      <td>2023.1</td>\n",
       "    </tr>\n",
       "    <tr>\n",
       "      <th>4</th>\n",
       "      <td>55</td>\n",
       "      <td>23.0</td>\n",
       "      <td>43</td>\n",
       "      <td>NaN</td>\n",
       "      <td>2023.2</td>\n",
       "    </tr>\n",
       "    <tr>\n",
       "      <th>5</th>\n",
       "      <td>65</td>\n",
       "      <td>45.0</td>\n",
       "      <td>NAN</td>\n",
       "      <td>23.0</td>\n",
       "      <td>2022.5</td>\n",
       "    </tr>\n",
       "    <tr>\n",
       "      <th>6</th>\n",
       "      <td>34</td>\n",
       "      <td>56.0</td>\n",
       "      <td>34</td>\n",
       "      <td>45.6</td>\n",
       "      <td>2002.6</td>\n",
       "    </tr>\n",
       "    <tr>\n",
       "      <th>7</th>\n",
       "      <td>78</td>\n",
       "      <td>34.0</td>\n",
       "      <td>56</td>\n",
       "      <td>78.9</td>\n",
       "      <td>2003.6</td>\n",
       "    </tr>\n",
       "    <tr>\n",
       "      <th>8</th>\n",
       "      <td>23</td>\n",
       "      <td>45.0</td>\n",
       "      <td>78</td>\n",
       "      <td>34.2</td>\n",
       "      <td>2003.4</td>\n",
       "    </tr>\n",
       "    <tr>\n",
       "      <th>9</th>\n",
       "      <td>12</td>\n",
       "      <td>NaN</td>\n",
       "      <td>65</td>\n",
       "      <td>35.6</td>\n",
       "      <td>2004.2</td>\n",
       "    </tr>\n",
       "    <tr>\n",
       "      <th>10</th>\n",
       "      <td>34</td>\n",
       "      <td>23.0</td>\n",
       "      <td>43</td>\n",
       "      <td>67.9</td>\n",
       "      <td>2005.8</td>\n",
       "    </tr>\n",
       "    <tr>\n",
       "      <th>11</th>\n",
       "      <td>56</td>\n",
       "      <td>34.0</td>\n",
       "      <td>45</td>\n",
       "      <td>45.7</td>\n",
       "      <td>2005.9</td>\n",
       "    </tr>\n",
       "    <tr>\n",
       "      <th>12</th>\n",
       "      <td>78</td>\n",
       "      <td>45.0</td>\n",
       "      <td>NaN</td>\n",
       "      <td>NaN</td>\n",
       "      <td>2005.6</td>\n",
       "    </tr>\n",
       "    <tr>\n",
       "      <th>13</th>\n",
       "      <td>45</td>\n",
       "      <td>56.0</td>\n",
       "      <td>56</td>\n",
       "      <td>45.0</td>\n",
       "      <td>2008.9</td>\n",
       "    </tr>\n",
       "  </tbody>\n",
       "</table>\n",
       "</div>"
      ],
      "text/plain": [
       "    math score  Reading Score Writing Score  Placement Score  Club join Date\n",
       "0           98           78.0            45             99.0          2011.3\n",
       "1           25           50.0            34             67.2          2022.7\n",
       "2           37           49.0            45             23.4          2022.6\n",
       "3           90           48.0           NaN             34.7          2023.1\n",
       "4           55           23.0            43              NaN          2023.2\n",
       "5           65           45.0           NAN             23.0          2022.5\n",
       "6           34           56.0            34             45.6          2002.6\n",
       "7           78           34.0            56             78.9          2003.6\n",
       "8           23           45.0            78             34.2          2003.4\n",
       "9           12            NaN            65             35.6          2004.2\n",
       "10          34           23.0            43             67.9          2005.8\n",
       "11          56           34.0            45             45.7          2005.9\n",
       "12          78           45.0           NaN              NaN          2005.6\n",
       "13          45           56.0            56             45.0          2008.9"
      ]
     },
     "execution_count": 2,
     "metadata": {},
     "output_type": "execute_result"
    }
   ],
   "source": [
    "df=pd.read_csv(\"student_performance11_final.csv\")\n",
    "df"
   ]
  },
  {
   "cell_type": "raw",
   "id": "84532ee1-58ec-4977-b318-4838e61e392a",
   "metadata": {},
   "source": [
    "Show the dimensions"
   ]
  },
  {
   "cell_type": "code",
   "execution_count": 3,
   "id": "8017200c-6f45-4e8b-a337-c0ed8170258c",
   "metadata": {},
   "outputs": [
    {
     "data": {
      "text/plain": [
       "(14, 5)"
      ]
     },
     "execution_count": 3,
     "metadata": {},
     "output_type": "execute_result"
    }
   ],
   "source": [
    "df.shape"
   ]
  },
  {
   "cell_type": "raw",
   "id": "6e276659-aba2-446d-a080-c5dffef2594d",
   "metadata": {},
   "source": [
    "show the names of all columns present in the dataset"
   ]
  },
  {
   "cell_type": "code",
   "execution_count": 4,
   "id": "8989c53a-44b9-45a0-82af-f36f33763fb3",
   "metadata": {},
   "outputs": [
    {
     "data": {
      "text/plain": [
       "Index(['math score', 'Reading Score', 'Writing Score', 'Placement Score',\n",
       "       'Club join Date'],\n",
       "      dtype='object')"
      ]
     },
     "execution_count": 4,
     "metadata": {},
     "output_type": "execute_result"
    }
   ],
   "source": [
    "df.columns"
   ]
  },
  {
   "cell_type": "raw",
   "id": "678d87a5-0f55-4697-a6eb-9ef49042683d",
   "metadata": {},
   "source": [
    "show the otal number of elements in the DataFrame (i.e. Number of Rows x Number of Columns)"
   ]
  },
  {
   "cell_type": "code",
   "execution_count": 5,
   "id": "68e0ed53-40d6-4e65-8391-a0343cdfcb52",
   "metadata": {},
   "outputs": [
    {
     "data": {
      "text/plain": [
       "70"
      ]
     },
     "execution_count": 5,
     "metadata": {},
     "output_type": "execute_result"
    }
   ],
   "source": [
    "df.size"
   ]
  },
  {
   "cell_type": "raw",
   "id": "6811e3e1-3ba8-487b-a5fb-94d9e845abde",
   "metadata": {},
   "source": [
    " Shows data type of each column"
   ]
  },
  {
   "cell_type": "code",
   "execution_count": 6,
   "id": "33e54379-01d4-48a1-a0c7-e91ce808b785",
   "metadata": {},
   "outputs": [
    {
     "data": {
      "text/plain": [
       "math score           int64\n",
       "Reading Score      float64\n",
       "Writing Score       object\n",
       "Placement Score    float64\n",
       "Club join Date     float64\n",
       "dtype: object"
      ]
     },
     "execution_count": 6,
     "metadata": {},
     "output_type": "execute_result"
    }
   ],
   "source": [
    "df.dtypes"
   ]
  },
  {
   "cell_type": "raw",
   "id": "a1b73dd7-9f84-431c-92c9-0a338f506494",
   "metadata": {},
   "source": [
    "It gives statistical summary of a numerical column"
   ]
  },
  {
   "cell_type": "code",
   "execution_count": 7,
   "id": "30004594-57ae-455a-b14a-e4765a20cf4c",
   "metadata": {},
   "outputs": [
    {
     "data": {
      "text/html": [
       "<div>\n",
       "<style scoped>\n",
       "    .dataframe tbody tr th:only-of-type {\n",
       "        vertical-align: middle;\n",
       "    }\n",
       "\n",
       "    .dataframe tbody tr th {\n",
       "        vertical-align: top;\n",
       "    }\n",
       "\n",
       "    .dataframe thead th {\n",
       "        text-align: right;\n",
       "    }\n",
       "</style>\n",
       "<table border=\"1\" class=\"dataframe\">\n",
       "  <thead>\n",
       "    <tr style=\"text-align: right;\">\n",
       "      <th></th>\n",
       "      <th>math score</th>\n",
       "      <th>Reading Score</th>\n",
       "      <th>Placement Score</th>\n",
       "      <th>Club join Date</th>\n",
       "    </tr>\n",
       "  </thead>\n",
       "  <tbody>\n",
       "    <tr>\n",
       "      <th>count</th>\n",
       "      <td>14.000000</td>\n",
       "      <td>13.000000</td>\n",
       "      <td>12.000000</td>\n",
       "      <td>14.000000</td>\n",
       "    </tr>\n",
       "    <tr>\n",
       "      <th>mean</th>\n",
       "      <td>52.142857</td>\n",
       "      <td>45.076923</td>\n",
       "      <td>50.016667</td>\n",
       "      <td>2011.814286</td>\n",
       "    </tr>\n",
       "    <tr>\n",
       "      <th>std</th>\n",
       "      <td>26.599182</td>\n",
       "      <td>14.693885</td>\n",
       "      <td>23.438424</td>\n",
       "      <td>8.795528</td>\n",
       "    </tr>\n",
       "    <tr>\n",
       "      <th>min</th>\n",
       "      <td>12.000000</td>\n",
       "      <td>23.000000</td>\n",
       "      <td>23.000000</td>\n",
       "      <td>2002.600000</td>\n",
       "    </tr>\n",
       "    <tr>\n",
       "      <th>25%</th>\n",
       "      <td>34.000000</td>\n",
       "      <td>34.000000</td>\n",
       "      <td>34.575000</td>\n",
       "      <td>2004.550000</td>\n",
       "    </tr>\n",
       "    <tr>\n",
       "      <th>50%</th>\n",
       "      <td>50.000000</td>\n",
       "      <td>45.000000</td>\n",
       "      <td>45.300000</td>\n",
       "      <td>2007.400000</td>\n",
       "    </tr>\n",
       "    <tr>\n",
       "      <th>75%</th>\n",
       "      <td>74.750000</td>\n",
       "      <td>50.000000</td>\n",
       "      <td>67.375000</td>\n",
       "      <td>2022.575000</td>\n",
       "    </tr>\n",
       "    <tr>\n",
       "      <th>max</th>\n",
       "      <td>98.000000</td>\n",
       "      <td>78.000000</td>\n",
       "      <td>99.000000</td>\n",
       "      <td>2023.200000</td>\n",
       "    </tr>\n",
       "  </tbody>\n",
       "</table>\n",
       "</div>"
      ],
      "text/plain": [
       "       math score  Reading Score  Placement Score  Club join Date\n",
       "count   14.000000      13.000000        12.000000       14.000000\n",
       "mean    52.142857      45.076923        50.016667     2011.814286\n",
       "std     26.599182      14.693885        23.438424        8.795528\n",
       "min     12.000000      23.000000        23.000000     2002.600000\n",
       "25%     34.000000      34.000000        34.575000     2004.550000\n",
       "50%     50.000000      45.000000        45.300000     2007.400000\n",
       "75%     74.750000      50.000000        67.375000     2022.575000\n",
       "max     98.000000      78.000000        99.000000     2023.200000"
      ]
     },
     "execution_count": 7,
     "metadata": {},
     "output_type": "execute_result"
    }
   ],
   "source": [
    "df.describe()"
   ]
  },
  {
   "cell_type": "raw",
   "id": "0c25900f-033f-4fd2-a198-5a76b08a15b7",
   "metadata": {},
   "source": [
    "Checking missing values in a dataframe"
   ]
  },
  {
   "cell_type": "code",
   "execution_count": 8,
   "id": "bd8b8922-8710-47cd-ab02-c8b6761cc2ed",
   "metadata": {},
   "outputs": [
    {
     "data": {
      "text/plain": [
       "math score         0\n",
       "Reading Score      1\n",
       "Writing Score      2\n",
       "Placement Score    2\n",
       "Club join Date     0\n",
       "dtype: int64"
      ]
     },
     "execution_count": 8,
     "metadata": {},
     "output_type": "execute_result"
    }
   ],
   "source": [
    "df.isnull().sum()"
   ]
  },
  {
   "cell_type": "raw",
   "id": "6aceaf2b-605c-44f4-a0fc-fe5e6f48802e",
   "metadata": {},
   "source": [
    "showing missing values in boolean type"
   ]
  },
  {
   "cell_type": "code",
   "execution_count": 9,
   "id": "7e21d43c-f519-4842-9d6c-cbbe9e312378",
   "metadata": {},
   "outputs": [
    {
     "data": {
      "text/html": [
       "<div>\n",
       "<style scoped>\n",
       "    .dataframe tbody tr th:only-of-type {\n",
       "        vertical-align: middle;\n",
       "    }\n",
       "\n",
       "    .dataframe tbody tr th {\n",
       "        vertical-align: top;\n",
       "    }\n",
       "\n",
       "    .dataframe thead th {\n",
       "        text-align: right;\n",
       "    }\n",
       "</style>\n",
       "<table border=\"1\" class=\"dataframe\">\n",
       "  <thead>\n",
       "    <tr style=\"text-align: right;\">\n",
       "      <th></th>\n",
       "      <th>math score</th>\n",
       "      <th>Reading Score</th>\n",
       "      <th>Writing Score</th>\n",
       "      <th>Placement Score</th>\n",
       "      <th>Club join Date</th>\n",
       "    </tr>\n",
       "  </thead>\n",
       "  <tbody>\n",
       "    <tr>\n",
       "      <th>0</th>\n",
       "      <td>False</td>\n",
       "      <td>False</td>\n",
       "      <td>False</td>\n",
       "      <td>False</td>\n",
       "      <td>False</td>\n",
       "    </tr>\n",
       "    <tr>\n",
       "      <th>1</th>\n",
       "      <td>False</td>\n",
       "      <td>False</td>\n",
       "      <td>False</td>\n",
       "      <td>False</td>\n",
       "      <td>False</td>\n",
       "    </tr>\n",
       "    <tr>\n",
       "      <th>2</th>\n",
       "      <td>False</td>\n",
       "      <td>False</td>\n",
       "      <td>False</td>\n",
       "      <td>False</td>\n",
       "      <td>False</td>\n",
       "    </tr>\n",
       "    <tr>\n",
       "      <th>3</th>\n",
       "      <td>False</td>\n",
       "      <td>False</td>\n",
       "      <td>True</td>\n",
       "      <td>False</td>\n",
       "      <td>False</td>\n",
       "    </tr>\n",
       "    <tr>\n",
       "      <th>4</th>\n",
       "      <td>False</td>\n",
       "      <td>False</td>\n",
       "      <td>False</td>\n",
       "      <td>True</td>\n",
       "      <td>False</td>\n",
       "    </tr>\n",
       "    <tr>\n",
       "      <th>5</th>\n",
       "      <td>False</td>\n",
       "      <td>False</td>\n",
       "      <td>False</td>\n",
       "      <td>False</td>\n",
       "      <td>False</td>\n",
       "    </tr>\n",
       "    <tr>\n",
       "      <th>6</th>\n",
       "      <td>False</td>\n",
       "      <td>False</td>\n",
       "      <td>False</td>\n",
       "      <td>False</td>\n",
       "      <td>False</td>\n",
       "    </tr>\n",
       "    <tr>\n",
       "      <th>7</th>\n",
       "      <td>False</td>\n",
       "      <td>False</td>\n",
       "      <td>False</td>\n",
       "      <td>False</td>\n",
       "      <td>False</td>\n",
       "    </tr>\n",
       "    <tr>\n",
       "      <th>8</th>\n",
       "      <td>False</td>\n",
       "      <td>False</td>\n",
       "      <td>False</td>\n",
       "      <td>False</td>\n",
       "      <td>False</td>\n",
       "    </tr>\n",
       "    <tr>\n",
       "      <th>9</th>\n",
       "      <td>False</td>\n",
       "      <td>True</td>\n",
       "      <td>False</td>\n",
       "      <td>False</td>\n",
       "      <td>False</td>\n",
       "    </tr>\n",
       "    <tr>\n",
       "      <th>10</th>\n",
       "      <td>False</td>\n",
       "      <td>False</td>\n",
       "      <td>False</td>\n",
       "      <td>False</td>\n",
       "      <td>False</td>\n",
       "    </tr>\n",
       "    <tr>\n",
       "      <th>11</th>\n",
       "      <td>False</td>\n",
       "      <td>False</td>\n",
       "      <td>False</td>\n",
       "      <td>False</td>\n",
       "      <td>False</td>\n",
       "    </tr>\n",
       "    <tr>\n",
       "      <th>12</th>\n",
       "      <td>False</td>\n",
       "      <td>False</td>\n",
       "      <td>True</td>\n",
       "      <td>True</td>\n",
       "      <td>False</td>\n",
       "    </tr>\n",
       "    <tr>\n",
       "      <th>13</th>\n",
       "      <td>False</td>\n",
       "      <td>False</td>\n",
       "      <td>False</td>\n",
       "      <td>False</td>\n",
       "      <td>False</td>\n",
       "    </tr>\n",
       "  </tbody>\n",
       "</table>\n",
       "</div>"
      ],
      "text/plain": [
       "    math score  Reading Score  Writing Score  Placement Score  Club join Date\n",
       "0        False          False          False            False           False\n",
       "1        False          False          False            False           False\n",
       "2        False          False          False            False           False\n",
       "3        False          False           True            False           False\n",
       "4        False          False          False             True           False\n",
       "5        False          False          False            False           False\n",
       "6        False          False          False            False           False\n",
       "7        False          False          False            False           False\n",
       "8        False          False          False            False           False\n",
       "9        False           True          False            False           False\n",
       "10       False          False          False            False           False\n",
       "11       False          False          False            False           False\n",
       "12       False          False           True             True           False\n",
       "13       False          False          False            False           False"
      ]
     },
     "execution_count": 9,
     "metadata": {},
     "output_type": "execute_result"
    }
   ],
   "source": [
    "df.isnull()"
   ]
  },
  {
   "cell_type": "raw",
   "id": "b640cf26-15ff-4bb5-9be6-5f504547bedd",
   "metadata": {},
   "source": [
    "shows information of dataset"
   ]
  },
  {
   "cell_type": "code",
   "execution_count": 10,
   "id": "5b846bf5-cf71-4b2d-9685-adf0f04e5403",
   "metadata": {},
   "outputs": [
    {
     "name": "stdout",
     "output_type": "stream",
     "text": [
      "<class 'pandas.core.frame.DataFrame'>\n",
      "RangeIndex: 14 entries, 0 to 13\n",
      "Data columns (total 5 columns):\n",
      " #   Column           Non-Null Count  Dtype  \n",
      "---  ------           --------------  -----  \n",
      " 0   math score       14 non-null     int64  \n",
      " 1   Reading Score    13 non-null     float64\n",
      " 2   Writing Score    12 non-null     object \n",
      " 3   Placement Score  12 non-null     float64\n",
      " 4   Club join Date   14 non-null     float64\n",
      "dtypes: float64(3), int64(1), object(1)\n",
      "memory usage: 692.0+ bytes\n"
     ]
    }
   ],
   "source": [
    "df.info()"
   ]
  },
  {
   "cell_type": "raw",
   "id": "908c642e-7de6-4f13-b455-2a6f03f05bf9",
   "metadata": {},
   "source": [
    "Showing datatypes of each column"
   ]
  },
  {
   "cell_type": "code",
   "execution_count": 11,
   "id": "186ba272-441c-4990-abfe-d3cbd144f4e8",
   "metadata": {},
   "outputs": [
    {
     "data": {
      "text/plain": [
       "math score           int64\n",
       "Reading Score      float64\n",
       "Writing Score       object\n",
       "Placement Score    float64\n",
       "Club join Date     float64\n",
       "dtype: object"
      ]
     },
     "execution_count": 11,
     "metadata": {},
     "output_type": "execute_result"
    }
   ],
   "source": [
    "df.dtypes"
   ]
  },
  {
   "cell_type": "code",
   "execution_count": 12,
   "id": "536b251d-fcc9-454b-bb24-49d4328b3f41",
   "metadata": {},
   "outputs": [
    {
     "data": {
      "text/plain": [
       "math score         0\n",
       "Reading Score      1\n",
       "Writing Score      2\n",
       "Placement Score    2\n",
       "Club join Date     0\n",
       "dtype: int64"
      ]
     },
     "execution_count": 12,
     "metadata": {},
     "output_type": "execute_result"
    }
   ],
   "source": [
    "df.isnull().sum()\n"
   ]
  },
  {
   "cell_type": "raw",
   "id": "59986bed-d484-4500-ad8e-1283bd03e3b2",
   "metadata": {},
   "source": [
    "fills the NAN or missing values in Reading Score column"
   ]
  },
  {
   "cell_type": "code",
   "execution_count": 14,
   "id": "a62f79f4-1859-40df-801c-2845bd28c3ad",
   "metadata": {},
   "outputs": [
    {
     "data": {
      "text/html": [
       "<div>\n",
       "<style scoped>\n",
       "    .dataframe tbody tr th:only-of-type {\n",
       "        vertical-align: middle;\n",
       "    }\n",
       "\n",
       "    .dataframe tbody tr th {\n",
       "        vertical-align: top;\n",
       "    }\n",
       "\n",
       "    .dataframe thead th {\n",
       "        text-align: right;\n",
       "    }\n",
       "</style>\n",
       "<table border=\"1\" class=\"dataframe\">\n",
       "  <thead>\n",
       "    <tr style=\"text-align: right;\">\n",
       "      <th></th>\n",
       "      <th>math score</th>\n",
       "      <th>Reading Score</th>\n",
       "      <th>Writing Score</th>\n",
       "      <th>Placement Score</th>\n",
       "      <th>Club join Date</th>\n",
       "    </tr>\n",
       "  </thead>\n",
       "  <tbody>\n",
       "    <tr>\n",
       "      <th>0</th>\n",
       "      <td>98</td>\n",
       "      <td>78.0</td>\n",
       "      <td>45</td>\n",
       "      <td>99.0</td>\n",
       "      <td>2011.3</td>\n",
       "    </tr>\n",
       "    <tr>\n",
       "      <th>1</th>\n",
       "      <td>25</td>\n",
       "      <td>50.0</td>\n",
       "      <td>34</td>\n",
       "      <td>67.2</td>\n",
       "      <td>2022.7</td>\n",
       "    </tr>\n",
       "    <tr>\n",
       "      <th>2</th>\n",
       "      <td>37</td>\n",
       "      <td>49.0</td>\n",
       "      <td>45</td>\n",
       "      <td>23.4</td>\n",
       "      <td>2022.6</td>\n",
       "    </tr>\n",
       "    <tr>\n",
       "      <th>3</th>\n",
       "      <td>90</td>\n",
       "      <td>48.0</td>\n",
       "      <td>NaN</td>\n",
       "      <td>34.7</td>\n",
       "      <td>2023.1</td>\n",
       "    </tr>\n",
       "    <tr>\n",
       "      <th>4</th>\n",
       "      <td>55</td>\n",
       "      <td>23.0</td>\n",
       "      <td>43</td>\n",
       "      <td>NaN</td>\n",
       "      <td>2023.2</td>\n",
       "    </tr>\n",
       "    <tr>\n",
       "      <th>5</th>\n",
       "      <td>65</td>\n",
       "      <td>45.0</td>\n",
       "      <td>NAN</td>\n",
       "      <td>23.0</td>\n",
       "      <td>2022.5</td>\n",
       "    </tr>\n",
       "    <tr>\n",
       "      <th>6</th>\n",
       "      <td>34</td>\n",
       "      <td>56.0</td>\n",
       "      <td>34</td>\n",
       "      <td>45.6</td>\n",
       "      <td>2002.6</td>\n",
       "    </tr>\n",
       "    <tr>\n",
       "      <th>7</th>\n",
       "      <td>78</td>\n",
       "      <td>34.0</td>\n",
       "      <td>56</td>\n",
       "      <td>78.9</td>\n",
       "      <td>2003.6</td>\n",
       "    </tr>\n",
       "    <tr>\n",
       "      <th>8</th>\n",
       "      <td>23</td>\n",
       "      <td>45.0</td>\n",
       "      <td>78</td>\n",
       "      <td>34.2</td>\n",
       "      <td>2003.4</td>\n",
       "    </tr>\n",
       "    <tr>\n",
       "      <th>9</th>\n",
       "      <td>12</td>\n",
       "      <td>34.0</td>\n",
       "      <td>65</td>\n",
       "      <td>35.6</td>\n",
       "      <td>2004.2</td>\n",
       "    </tr>\n",
       "    <tr>\n",
       "      <th>10</th>\n",
       "      <td>34</td>\n",
       "      <td>23.0</td>\n",
       "      <td>43</td>\n",
       "      <td>67.9</td>\n",
       "      <td>2005.8</td>\n",
       "    </tr>\n",
       "    <tr>\n",
       "      <th>11</th>\n",
       "      <td>56</td>\n",
       "      <td>34.0</td>\n",
       "      <td>45</td>\n",
       "      <td>45.7</td>\n",
       "      <td>2005.9</td>\n",
       "    </tr>\n",
       "    <tr>\n",
       "      <th>12</th>\n",
       "      <td>78</td>\n",
       "      <td>45.0</td>\n",
       "      <td>NaN</td>\n",
       "      <td>NaN</td>\n",
       "      <td>2005.6</td>\n",
       "    </tr>\n",
       "    <tr>\n",
       "      <th>13</th>\n",
       "      <td>45</td>\n",
       "      <td>56.0</td>\n",
       "      <td>56</td>\n",
       "      <td>45.0</td>\n",
       "      <td>2008.9</td>\n",
       "    </tr>\n",
       "  </tbody>\n",
       "</table>\n",
       "</div>"
      ],
      "text/plain": [
       "    math score  Reading Score Writing Score  Placement Score  Club join Date\n",
       "0           98           78.0            45             99.0          2011.3\n",
       "1           25           50.0            34             67.2          2022.7\n",
       "2           37           49.0            45             23.4          2022.6\n",
       "3           90           48.0           NaN             34.7          2023.1\n",
       "4           55           23.0            43              NaN          2023.2\n",
       "5           65           45.0           NAN             23.0          2022.5\n",
       "6           34           56.0            34             45.6          2002.6\n",
       "7           78           34.0            56             78.9          2003.6\n",
       "8           23           45.0            78             34.2          2003.4\n",
       "9           12           34.0            65             35.6          2004.2\n",
       "10          34           23.0            43             67.9          2005.8\n",
       "11          56           34.0            45             45.7          2005.9\n",
       "12          78           45.0           NaN              NaN          2005.6\n",
       "13          45           56.0            56             45.0          2008.9"
      ]
     },
     "execution_count": 14,
     "metadata": {},
     "output_type": "execute_result"
    }
   ],
   "source": [
    "df['Reading Score']= df['Reading Score'].interpolate()\n",
    "df"
   ]
  },
  {
   "cell_type": "code",
   "execution_count": 16,
   "id": "6ba620cc-2698-4c69-9fe1-a16803f82e9b",
   "metadata": {},
   "outputs": [
    {
     "data": {
      "text/plain": [
       "math score         0\n",
       "Reading Score      0\n",
       "Writing Score      2\n",
       "Placement Score    2\n",
       "Club join Date     0\n",
       "dtype: int64"
      ]
     },
     "execution_count": 16,
     "metadata": {},
     "output_type": "execute_result"
    }
   ],
   "source": [
    "df.isnull().sum()"
   ]
  },
  {
   "cell_type": "raw",
   "id": "195b3c15-2570-46b7-86af-2918c2ea49d9",
   "metadata": {},
   "source": [
    "By using ffill method filling the NAN values"
   ]
  },
  {
   "cell_type": "code",
   "execution_count": 25,
   "id": "695f3b76-2350-48d7-9bb2-a66667830b85",
   "metadata": {},
   "outputs": [
    {
     "name": "stderr",
     "output_type": "stream",
     "text": [
      "C:\\Users\\KARTIK DESHMUKH\\AppData\\Local\\Temp\\ipykernel_23668\\2151156783.py:1: FutureWarning: Series.fillna with 'method' is deprecated and will raise in a future version. Use obj.ffill() or obj.bfill() instead.\n",
      "  df['Writing Score']=df['Writing Score'].fillna(method='ffill');\n"
     ]
    },
    {
     "data": {
      "text/html": [
       "<div>\n",
       "<style scoped>\n",
       "    .dataframe tbody tr th:only-of-type {\n",
       "        vertical-align: middle;\n",
       "    }\n",
       "\n",
       "    .dataframe tbody tr th {\n",
       "        vertical-align: top;\n",
       "    }\n",
       "\n",
       "    .dataframe thead th {\n",
       "        text-align: right;\n",
       "    }\n",
       "</style>\n",
       "<table border=\"1\" class=\"dataframe\">\n",
       "  <thead>\n",
       "    <tr style=\"text-align: right;\">\n",
       "      <th></th>\n",
       "      <th>math score</th>\n",
       "      <th>Reading Score</th>\n",
       "      <th>Writing Score</th>\n",
       "      <th>Placement Score</th>\n",
       "      <th>Club join Date</th>\n",
       "      <th>Writing Score</th>\n",
       "    </tr>\n",
       "  </thead>\n",
       "  <tbody>\n",
       "    <tr>\n",
       "      <th>0</th>\n",
       "      <td>98</td>\n",
       "      <td>78.0</td>\n",
       "      <td>45</td>\n",
       "      <td>99.0</td>\n",
       "      <td>2011.3</td>\n",
       "      <td>45</td>\n",
       "    </tr>\n",
       "    <tr>\n",
       "      <th>1</th>\n",
       "      <td>25</td>\n",
       "      <td>50.0</td>\n",
       "      <td>34</td>\n",
       "      <td>67.2</td>\n",
       "      <td>2022.7</td>\n",
       "      <td>34</td>\n",
       "    </tr>\n",
       "    <tr>\n",
       "      <th>2</th>\n",
       "      <td>37</td>\n",
       "      <td>49.0</td>\n",
       "      <td>45</td>\n",
       "      <td>23.4</td>\n",
       "      <td>2022.6</td>\n",
       "      <td>45</td>\n",
       "    </tr>\n",
       "    <tr>\n",
       "      <th>3</th>\n",
       "      <td>90</td>\n",
       "      <td>48.0</td>\n",
       "      <td>45</td>\n",
       "      <td>34.7</td>\n",
       "      <td>2023.1</td>\n",
       "      <td>43</td>\n",
       "    </tr>\n",
       "    <tr>\n",
       "      <th>4</th>\n",
       "      <td>55</td>\n",
       "      <td>23.0</td>\n",
       "      <td>43</td>\n",
       "      <td>NaN</td>\n",
       "      <td>2023.2</td>\n",
       "      <td>43</td>\n",
       "    </tr>\n",
       "    <tr>\n",
       "      <th>5</th>\n",
       "      <td>65</td>\n",
       "      <td>45.0</td>\n",
       "      <td>NAN</td>\n",
       "      <td>23.0</td>\n",
       "      <td>2022.5</td>\n",
       "      <td>NAN</td>\n",
       "    </tr>\n",
       "    <tr>\n",
       "      <th>6</th>\n",
       "      <td>34</td>\n",
       "      <td>56.0</td>\n",
       "      <td>34</td>\n",
       "      <td>45.6</td>\n",
       "      <td>2002.6</td>\n",
       "      <td>34</td>\n",
       "    </tr>\n",
       "    <tr>\n",
       "      <th>7</th>\n",
       "      <td>78</td>\n",
       "      <td>34.0</td>\n",
       "      <td>56</td>\n",
       "      <td>78.9</td>\n",
       "      <td>2003.6</td>\n",
       "      <td>56</td>\n",
       "    </tr>\n",
       "    <tr>\n",
       "      <th>8</th>\n",
       "      <td>23</td>\n",
       "      <td>45.0</td>\n",
       "      <td>78</td>\n",
       "      <td>34.2</td>\n",
       "      <td>2003.4</td>\n",
       "      <td>78</td>\n",
       "    </tr>\n",
       "    <tr>\n",
       "      <th>9</th>\n",
       "      <td>12</td>\n",
       "      <td>34.0</td>\n",
       "      <td>65</td>\n",
       "      <td>35.6</td>\n",
       "      <td>2004.2</td>\n",
       "      <td>65</td>\n",
       "    </tr>\n",
       "    <tr>\n",
       "      <th>10</th>\n",
       "      <td>34</td>\n",
       "      <td>23.0</td>\n",
       "      <td>43</td>\n",
       "      <td>67.9</td>\n",
       "      <td>2005.8</td>\n",
       "      <td>43</td>\n",
       "    </tr>\n",
       "    <tr>\n",
       "      <th>11</th>\n",
       "      <td>56</td>\n",
       "      <td>34.0</td>\n",
       "      <td>45</td>\n",
       "      <td>45.7</td>\n",
       "      <td>2005.9</td>\n",
       "      <td>45</td>\n",
       "    </tr>\n",
       "    <tr>\n",
       "      <th>12</th>\n",
       "      <td>78</td>\n",
       "      <td>45.0</td>\n",
       "      <td>45</td>\n",
       "      <td>NaN</td>\n",
       "      <td>2005.6</td>\n",
       "      <td>56</td>\n",
       "    </tr>\n",
       "    <tr>\n",
       "      <th>13</th>\n",
       "      <td>45</td>\n",
       "      <td>56.0</td>\n",
       "      <td>56</td>\n",
       "      <td>45.0</td>\n",
       "      <td>2008.9</td>\n",
       "      <td>56</td>\n",
       "    </tr>\n",
       "  </tbody>\n",
       "</table>\n",
       "</div>"
      ],
      "text/plain": [
       "    math score  Reading Score Writing Score  Placement Score  Club join Date  \\\n",
       "0           98           78.0            45             99.0          2011.3   \n",
       "1           25           50.0            34             67.2          2022.7   \n",
       "2           37           49.0            45             23.4          2022.6   \n",
       "3           90           48.0            45             34.7          2023.1   \n",
       "4           55           23.0            43              NaN          2023.2   \n",
       "5           65           45.0           NAN             23.0          2022.5   \n",
       "6           34           56.0            34             45.6          2002.6   \n",
       "7           78           34.0            56             78.9          2003.6   \n",
       "8           23           45.0            78             34.2          2003.4   \n",
       "9           12           34.0            65             35.6          2004.2   \n",
       "10          34           23.0            43             67.9          2005.8   \n",
       "11          56           34.0            45             45.7          2005.9   \n",
       "12          78           45.0            45              NaN          2005.6   \n",
       "13          45           56.0            56             45.0          2008.9   \n",
       "\n",
       "   Writing Score   \n",
       "0              45  \n",
       "1              34  \n",
       "2              45  \n",
       "3              43  \n",
       "4              43  \n",
       "5             NAN  \n",
       "6              34  \n",
       "7              56  \n",
       "8              78  \n",
       "9              65  \n",
       "10             43  \n",
       "11             45  \n",
       "12             56  \n",
       "13             56  "
      ]
     },
     "execution_count": 25,
     "metadata": {},
     "output_type": "execute_result"
    }
   ],
   "source": [
    "df['Writing Score']=df['Writing Score'].fillna(method='ffill');\n",
    "df"
   ]
  },
  {
   "cell_type": "code",
   "execution_count": 26,
   "id": "b23d53e1-3776-41cf-8853-1dbc739500d3",
   "metadata": {},
   "outputs": [
    {
     "data": {
      "text/plain": [
       "math score         0\n",
       "Reading Score      0\n",
       "Writing Score      0\n",
       "Placement Score    2\n",
       "Club join Date     0\n",
       "Writing Score      0\n",
       "dtype: int64"
      ]
     },
     "execution_count": 26,
     "metadata": {},
     "output_type": "execute_result"
    }
   ],
   "source": [
    "df.isnull().sum()"
   ]
  },
  {
   "cell_type": "raw",
   "id": "0a9d71c6-b2f5-44ab-93e1-fbfc38bca606",
   "metadata": {},
   "source": [
    "Filling the missing values by using Backward fill"
   ]
  },
  {
   "cell_type": "code",
   "execution_count": 27,
   "id": "a37c6b12-40ea-46cb-8d40-0708718f04bf",
   "metadata": {},
   "outputs": [
    {
     "name": "stderr",
     "output_type": "stream",
     "text": [
      "C:\\Users\\KARTIK DESHMUKH\\AppData\\Local\\Temp\\ipykernel_23668\\1408858855.py:1: FutureWarning: Series.fillna with 'method' is deprecated and will raise in a future version. Use obj.ffill() or obj.bfill() instead.\n",
      "  df['Placement Score'] = df['Placement Score'].fillna(method='bfill')\n"
     ]
    },
    {
     "data": {
      "text/html": [
       "<div>\n",
       "<style scoped>\n",
       "    .dataframe tbody tr th:only-of-type {\n",
       "        vertical-align: middle;\n",
       "    }\n",
       "\n",
       "    .dataframe tbody tr th {\n",
       "        vertical-align: top;\n",
       "    }\n",
       "\n",
       "    .dataframe thead th {\n",
       "        text-align: right;\n",
       "    }\n",
       "</style>\n",
       "<table border=\"1\" class=\"dataframe\">\n",
       "  <thead>\n",
       "    <tr style=\"text-align: right;\">\n",
       "      <th></th>\n",
       "      <th>math score</th>\n",
       "      <th>Reading Score</th>\n",
       "      <th>Writing Score</th>\n",
       "      <th>Placement Score</th>\n",
       "      <th>Club join Date</th>\n",
       "      <th>Writing Score</th>\n",
       "    </tr>\n",
       "  </thead>\n",
       "  <tbody>\n",
       "    <tr>\n",
       "      <th>0</th>\n",
       "      <td>98</td>\n",
       "      <td>78.0</td>\n",
       "      <td>45</td>\n",
       "      <td>99.0</td>\n",
       "      <td>2011.3</td>\n",
       "      <td>45</td>\n",
       "    </tr>\n",
       "    <tr>\n",
       "      <th>1</th>\n",
       "      <td>25</td>\n",
       "      <td>50.0</td>\n",
       "      <td>34</td>\n",
       "      <td>67.2</td>\n",
       "      <td>2022.7</td>\n",
       "      <td>34</td>\n",
       "    </tr>\n",
       "    <tr>\n",
       "      <th>2</th>\n",
       "      <td>37</td>\n",
       "      <td>49.0</td>\n",
       "      <td>45</td>\n",
       "      <td>23.4</td>\n",
       "      <td>2022.6</td>\n",
       "      <td>45</td>\n",
       "    </tr>\n",
       "    <tr>\n",
       "      <th>3</th>\n",
       "      <td>90</td>\n",
       "      <td>48.0</td>\n",
       "      <td>45</td>\n",
       "      <td>34.7</td>\n",
       "      <td>2023.1</td>\n",
       "      <td>43</td>\n",
       "    </tr>\n",
       "    <tr>\n",
       "      <th>4</th>\n",
       "      <td>55</td>\n",
       "      <td>23.0</td>\n",
       "      <td>43</td>\n",
       "      <td>23.0</td>\n",
       "      <td>2023.2</td>\n",
       "      <td>43</td>\n",
       "    </tr>\n",
       "    <tr>\n",
       "      <th>5</th>\n",
       "      <td>65</td>\n",
       "      <td>45.0</td>\n",
       "      <td>NAN</td>\n",
       "      <td>23.0</td>\n",
       "      <td>2022.5</td>\n",
       "      <td>NAN</td>\n",
       "    </tr>\n",
       "    <tr>\n",
       "      <th>6</th>\n",
       "      <td>34</td>\n",
       "      <td>56.0</td>\n",
       "      <td>34</td>\n",
       "      <td>45.6</td>\n",
       "      <td>2002.6</td>\n",
       "      <td>34</td>\n",
       "    </tr>\n",
       "    <tr>\n",
       "      <th>7</th>\n",
       "      <td>78</td>\n",
       "      <td>34.0</td>\n",
       "      <td>56</td>\n",
       "      <td>78.9</td>\n",
       "      <td>2003.6</td>\n",
       "      <td>56</td>\n",
       "    </tr>\n",
       "    <tr>\n",
       "      <th>8</th>\n",
       "      <td>23</td>\n",
       "      <td>45.0</td>\n",
       "      <td>78</td>\n",
       "      <td>34.2</td>\n",
       "      <td>2003.4</td>\n",
       "      <td>78</td>\n",
       "    </tr>\n",
       "    <tr>\n",
       "      <th>9</th>\n",
       "      <td>12</td>\n",
       "      <td>34.0</td>\n",
       "      <td>65</td>\n",
       "      <td>35.6</td>\n",
       "      <td>2004.2</td>\n",
       "      <td>65</td>\n",
       "    </tr>\n",
       "    <tr>\n",
       "      <th>10</th>\n",
       "      <td>34</td>\n",
       "      <td>23.0</td>\n",
       "      <td>43</td>\n",
       "      <td>67.9</td>\n",
       "      <td>2005.8</td>\n",
       "      <td>43</td>\n",
       "    </tr>\n",
       "    <tr>\n",
       "      <th>11</th>\n",
       "      <td>56</td>\n",
       "      <td>34.0</td>\n",
       "      <td>45</td>\n",
       "      <td>45.7</td>\n",
       "      <td>2005.9</td>\n",
       "      <td>45</td>\n",
       "    </tr>\n",
       "    <tr>\n",
       "      <th>12</th>\n",
       "      <td>78</td>\n",
       "      <td>45.0</td>\n",
       "      <td>45</td>\n",
       "      <td>45.0</td>\n",
       "      <td>2005.6</td>\n",
       "      <td>56</td>\n",
       "    </tr>\n",
       "    <tr>\n",
       "      <th>13</th>\n",
       "      <td>45</td>\n",
       "      <td>56.0</td>\n",
       "      <td>56</td>\n",
       "      <td>45.0</td>\n",
       "      <td>2008.9</td>\n",
       "      <td>56</td>\n",
       "    </tr>\n",
       "  </tbody>\n",
       "</table>\n",
       "</div>"
      ],
      "text/plain": [
       "    math score  Reading Score Writing Score  Placement Score  Club join Date  \\\n",
       "0           98           78.0            45             99.0          2011.3   \n",
       "1           25           50.0            34             67.2          2022.7   \n",
       "2           37           49.0            45             23.4          2022.6   \n",
       "3           90           48.0            45             34.7          2023.1   \n",
       "4           55           23.0            43             23.0          2023.2   \n",
       "5           65           45.0           NAN             23.0          2022.5   \n",
       "6           34           56.0            34             45.6          2002.6   \n",
       "7           78           34.0            56             78.9          2003.6   \n",
       "8           23           45.0            78             34.2          2003.4   \n",
       "9           12           34.0            65             35.6          2004.2   \n",
       "10          34           23.0            43             67.9          2005.8   \n",
       "11          56           34.0            45             45.7          2005.9   \n",
       "12          78           45.0            45             45.0          2005.6   \n",
       "13          45           56.0            56             45.0          2008.9   \n",
       "\n",
       "   Writing Score   \n",
       "0              45  \n",
       "1              34  \n",
       "2              45  \n",
       "3              43  \n",
       "4              43  \n",
       "5             NAN  \n",
       "6              34  \n",
       "7              56  \n",
       "8              78  \n",
       "9              65  \n",
       "10             43  \n",
       "11             45  \n",
       "12             56  \n",
       "13             56  "
      ]
     },
     "execution_count": 27,
     "metadata": {},
     "output_type": "execute_result"
    }
   ],
   "source": [
    "df['Placement Score'] = df['Placement Score'].fillna(method='bfill')\n",
    "df"
   ]
  },
  {
   "cell_type": "code",
   "execution_count": 28,
   "id": "25281ea1-8278-4114-84b8-69edd4531deb",
   "metadata": {},
   "outputs": [
    {
     "data": {
      "text/plain": [
       "math score         0\n",
       "Reading Score      0\n",
       "Writing Score      0\n",
       "Placement Score    0\n",
       "Club join Date     0\n",
       "Writing Score      0\n",
       "dtype: int64"
      ]
     },
     "execution_count": 28,
     "metadata": {},
     "output_type": "execute_result"
    }
   ],
   "source": [
    "df.isnull().sum()\n"
   ]
  },
  {
   "cell_type": "raw",
   "id": "6696b3ba-b5b4-48c7-a3e0-43df89b6170a",
   "metadata": {},
   "source": [
    "converts the 'Writing Score' column to numeric values, handling any invalid entries in a specific way"
   ]
  },
  {
   "cell_type": "code",
   "execution_count": 30,
   "id": "456d8fff-8c4c-425c-b623-1df475dcf480",
   "metadata": {},
   "outputs": [],
   "source": [
    "df['Writing Score'] = pd.to_numeric(df['Writing Score'], errors='coerce')"
   ]
  },
  {
   "cell_type": "raw",
   "id": "3bd84fa0-4306-4485-b672-046916b5c6dc",
   "metadata": {},
   "source": [
    "fill missing values or NAN in the DataFrame  with the median of each numeric column."
   ]
  },
  {
   "cell_type": "code",
   "execution_count": 31,
   "id": "0f2abe87-2824-41a3-accf-8b3b3d434bc1",
   "metadata": {},
   "outputs": [],
   "source": [
    "df_imputed = df.fillna(df.median(numeric_only=True))"
   ]
  },
  {
   "cell_type": "raw",
   "id": "5db3af5e-6c30-496d-bfe0-b47045b5f46f",
   "metadata": {},
   "source": [
    "To detect and cap outliers in a specific column of a DataFrame based on the Interquartile Range (IQR) method."
   ]
  },
  {
   "cell_type": "code",
   "execution_count": 33,
   "id": "83dcc3be-8672-456c-85c6-f377791b881f",
   "metadata": {},
   "outputs": [],
   "source": [
    "def detect_and_cap_outliers(data, column):\n",
    "    Q1 = data[column].quantile(0.25)\n",
    "    Q3 = data[column].quantile(0.75)\n",
    "    IQR = Q3 - Q1\n",
    "    lower_bound = Q1 - 1.5 * IQR\n",
    "    upper_bound = Q3 + 1.5 * IQR\n",
    "    # Cap outliers\n",
    "    data[column] = data[column].clip(lower=lower_bound, upper=upper_bound)\n",
    "    return data"
   ]
  },
  {
   "cell_type": "raw",
   "id": "c60618fd-dd09-428d-9cdc-ef7dc2ced4eb",
   "metadata": {},
   "source": [
    "Apply capping to all numeric columns"
   ]
  },
  {
   "cell_type": "code",
   "execution_count": 34,
   "id": "946816ba-6984-405f-9573-42ff4e82fac3",
   "metadata": {},
   "outputs": [],
   "source": [
    "df_capped = df_imputed.copy()\n",
    "for col in df_capped.select_dtypes(include='number').columns:\n",
    "    df_capped = detect_and_cap_outliers(df_capped, col)"
   ]
  },
  {
   "cell_type": "raw",
   "id": "3b6ae270-88e4-4a93-8c01-df60a1f8c234",
   "metadata": {},
   "source": [
    "applying a log transformation to the 'Placement Score' column in your DataFrame df_capped using the np.log1p() function from NumPy."
   ]
  },
  {
   "cell_type": "code",
   "execution_count": 35,
   "id": "c5657467-6154-4164-85ed-a3ce02e2decf",
   "metadata": {},
   "outputs": [],
   "source": [
    "df_capped['Log_Placement_Score'] = np.log1p(df_capped['Placement Score'])"
   ]
  },
  {
   "cell_type": "raw",
   "id": "4f505f00-9fdc-4834-8691-4e54b4b4596a",
   "metadata": {},
   "source": [
    "histograms to visualize the distribution of the original placement scores and the log-transformed placement scores"
   ]
  },
  {
   "cell_type": "code",
   "execution_count": 36,
   "id": "060820d0-870b-4939-b4eb-ad81fb3db448",
   "metadata": {},
   "outputs": [
    {
     "data": {
      "image/png": "[encoded data removed]",
      "text/plain": [
       "<Figure size 1200x500 with 2 Axes>"
      ]
     },
     "metadata": {},
     "output_type": "display_data"
    }
   ],
   "source": [
    "plt.figure(figsize=(12, 5))\n",
    "\n",
    "plt.subplot(1, 2, 1)\n",
    "sns.histplot(df_capped['Placement Score'], bins=10, kde=True)\n",
    "plt.title(\"Original Placement Score\")\n",
    "\n",
    "plt.subplot(1, 2, 2)\n",
    "sns.histplot(df_capped['Log_Placement_Score'], bins=10, kde=True)\n",
    "plt.title(\"Log-Transformed Placement Score\")\n",
    "\n",
    "plt.tight_layout()\n",
    "plt.show()"
   ]
  },
  {
   "cell_type": "code",
   "execution_count": 37,
   "id": "2d559a5d-7e49-4107-a2ee-960df555477d",
   "metadata": {},
   "outputs": [],
   "source": [
    "df_capped.to_csv(\"student_performance_cleaned.csv\", index=False)"
   ]
  },
  {
   "cell_type": "code",
   "execution_count": null,
   "id": "77379ccd-5037-4177-85f5-473e0677ebcd",
   "metadata": {},
   "outputs": [],
   "source": []
  },
  {
   "cell_type": "code",
   "execution_count": null,
   "id": "7ea6c846-bf8d-4952-9439-108bac7d1087",
   "metadata": {},
   "outputs": [],
   "source": []
  }
 ],
 "metadata": {
  "kernelspec": {
   "display_name": "Python 3 (ipykernel)",
   "language": "python",
   "name": "python3"
  },
  "language_info": {
   "codemirror_mode": {
    "name": "ipython",
    "version": 3
   },
   "file_extension": ".py",
   "mimetype": "text/x-python",
   "name": "python",
   "nbconvert_exporter": "python",
   "pygments_lexer": "ipython3",
   "version": "3.13.0"
  }
 },
 "nbformat": 4,
 "nbformat_minor": 5
}
